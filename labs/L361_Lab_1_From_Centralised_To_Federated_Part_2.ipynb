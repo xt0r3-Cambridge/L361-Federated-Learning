{
 "cells": [
  {
   "cell_type": "markdown",
   "metadata": {
    "id": "wTR0VzOm2B5d"
   },
   "source": [
    "# 0. Marking.\n",
    "\n",
    "***IMPORTANT***: Save a copy of this notebook into your Drive before you start.\n",
    "- Please attempt all the questions marked for your group (Part II ✅ | Part III/MPhil ✅).\n",
    "\n",
    "Please submit a zip file, containing both parts, consiting of of:\n",
    "1. A text file with a publicly visible link to your notebooks in Google Colab or GitHub.\n",
    "2. A downloaded copy (ipynb) of your notebooks or your zipped cloned GitHub repo. You may treat these as a report: we will not be re-executing the code you used to produce the answers unless required.\n",
    "\n",
    "If you find yourself enjoying the material, feel free to attempt more! Provide your answers in a new cell below the question cell."
   ]
  },
  {
   "cell_type": "markdown",
   "metadata": {
    "id": "Y1P9epXi-IZ0"
   },
   "source": [
    "### Globals.\n"
   ]
  },
  {
   "cell_type": "code",
   "execution_count": 1,
   "metadata": {
    "execution": {
     "iopub.execute_input": "2024-02-02T18:49:44.988827Z",
     "iopub.status.busy": "2024-02-02T18:49:44.988555Z",
     "iopub.status.idle": "2024-02-02T18:49:55.422944Z",
     "shell.execute_reply": "2024-02-02T18:49:55.421963Z",
     "shell.execute_reply.started": "2024-02-02T18:49:44.988796Z"
    },
    "id": "fTM8comw-IZ2"
   },
   "outputs": [],
   "source": [
    "# The simulation component of the flower framework uses RAY under the hood.\n",
    "# `pip` could produce some errors. Do not worry about them.\n",
    "# The execution has been verified; it's working anyway.\n",
    "! pip install --quiet --upgrade \"pip\"\n",
    "! pip install --quiet git+https://github.com/Iacob-Alexandru-Andrei/flower.git@teaching torch torchvision matplotlib gdown tqdm ray==\"2.6.3\" seaborn\n",
    "# The following is just needed to show the folder tree"
   ]
  },
  {
   "cell_type": "code",
   "execution_count": 2,
   "metadata": {
    "execution": {
     "iopub.execute_input": "2024-02-02T18:49:55.424758Z",
     "iopub.status.busy": "2024-02-02T18:49:55.424341Z",
     "iopub.status.idle": "2024-02-02T18:49:55.428576Z",
     "shell.execute_reply": "2024-02-02T18:49:55.427840Z",
     "shell.execute_reply.started": "2024-02-02T18:49:55.424725Z"
    },
    "id": "G9YC7eFA-IZ1"
   },
   "outputs": [],
   "source": [
    "from typing import *"
   ]
  },
  {
   "cell_type": "markdown",
   "metadata": {
    "id": "_zl2hUa1-IZ2"
   },
   "source": [
    "### Imports.\n"
   ]
  },
  {
   "cell_type": "code",
   "execution_count": 3,
   "metadata": {
    "execution": {
     "iopub.execute_input": "2024-02-02T18:49:55.430517Z",
     "iopub.status.busy": "2024-02-02T18:49:55.430014Z",
     "iopub.status.idle": "2024-02-02T18:49:57.642384Z",
     "shell.execute_reply": "2024-02-02T18:49:57.641633Z",
     "shell.execute_reply.started": "2024-02-02T18:49:55.430502Z"
    },
    "id": "Z7xM_SyD-IZ4"
   },
   "outputs": [
    {
     "name": "stderr",
     "output_type": "stream",
     "text": [
      "/home/xt0r3-user/anaconda3/envs/fl/lib/python3.10/site-packages/tqdm/auto.py:21: TqdmWarning: IProgress not found. Please update jupyter and ipywidgets. See https://ipywidgets.readthedocs.io/en/stable/user_install.html\n",
      "  from .autonotebook import tqdm as notebook_tqdm\n",
      "2024-02-02 18:49:55,910\tINFO util.py:159 -- Missing packages: ['ipywidgets']. Run `pip install -U ipywidgets`, then restart the notebook server for rich notebook output.\n"
     ]
    }
   ],
   "source": [
    "# Imports\n",
    "\n",
    "import json\n",
    "import numbers\n",
    "import random\n",
    "from collections import OrderedDict, defaultdict\n",
    "from datetime import datetime, timezone\n",
    "from enum import IntEnum\n",
    "from pathlib import Path\n",
    "from typing import Optional\n",
    "\n",
    "import flwr as fl\n",
    "import gdown\n",
    "import numpy as np\n",
    "import seaborn as sns\n",
    "import torch\n",
    "from flwr.client import Client\n",
    "from flwr.common.parameter import ndarrays_to_parameters\n",
    "from flwr.common.typing import NDArrays, Parameters, Scalar\n",
    "from flwr.server import History, ServerConfig\n",
    "from flwr.server.strategy import FedAvgM as FedAvg\n",
    "from flwr.server.strategy import Strategy\n",
    "from matplotlib import pyplot as plt\n",
    "from numpy.linalg import norm\n",
    "from torch import nn\n",
    "from torch.nn import Module\n",
    "from torch.utils.data import DataLoader, Dataset\n",
    "from tqdm import tqdm\n",
    "\n",
    "\n",
    "# Add new seeds here for easy autocomplete\n",
    "class Seeds(IntEnum):\n",
    "    DEFAULT = 1337\n",
    "\n",
    "\n",
    "np.random.seed(Seeds.DEFAULT)\n",
    "random.seed(Seeds.DEFAULT)\n",
    "torch.manual_seed(Seeds.DEFAULT)\n",
    "torch.backends.cudnn.benchmark = False  # type: ignore\n",
    "torch.backends.cudnn.deterministic = True  # type: ignore\n",
    "\n",
    "\n",
    "def convert(o):\n",
    "    if isinstance(o, np.int32 | np.int64):\n",
    "        return int(o)\n",
    "    if isinstance(o, np.float32 | np.float64):\n",
    "        return float(o)\n",
    "    raise TypeError\n",
    "\n",
    "\n",
    "def fit_client_seeded(client, params, conf, seed=Seeds.DEFAULT, **kwargs):\n",
    "    \"\"\"Wrapper to always seed client training.\"\"\"\n",
    "    np.random.seed(seed)\n",
    "    torch.manual_seed(seed)\n",
    "    random.seed(seed)\n",
    "    return client.fit(params, conf, **kwargs)\n",
    "\n",
    "\n",
    "PathType = Optional[Union[Path, str]]\n",
    "\n",
    "\n",
    "def get_device() -> str:\n",
    "    device = \"cpu\"\n",
    "    if torch.cuda.is_available():\n",
    "        device = \"cuda\"\n",
    "    elif torch.backends.mps.is_available() and torch.backends.mps.is_built():\n",
    "        device = \"mps\"\n",
    "    return device"
   ]
  },
  {
   "cell_type": "code",
   "execution_count": 4,
   "metadata": {
    "execution": {
     "iopub.execute_input": "2024-02-02T18:49:57.644696Z",
     "iopub.status.busy": "2024-02-02T18:49:57.644349Z",
     "iopub.status.idle": "2024-02-02T18:49:57.651774Z",
     "shell.execute_reply": "2024-02-02T18:49:57.651044Z",
     "shell.execute_reply.started": "2024-02-02T18:49:57.644681Z"
    },
    "id": "341p1c5o-IZ4"
   },
   "outputs": [],
   "source": [
    "home_dir = content if (content := Path(\"/content\")).exists() else Path.cwd()\n",
    "dataset_dir: Path = home_dir / \"femnist\"\n",
    "data_dir: Path = dataset_dir / \"data\"\n",
    "centralized_partition: Path = dataset_dir / \"client_data_mappings\" / \"centralized\"\n",
    "centralized_mapping: Path = dataset_dir / \"client_data_mappings\" / \"centralized\" / \"0\"\n",
    "federated_partition: Path = dataset_dir / \"client_data_mappings\" / \"fed_natural\"\n",
    "\n",
    "#  Download compressed dataset\n",
    "if not (home_dir / \"femnist.tar.gz\").exists():\n",
    "    id = \"1-CI6-QoEmGiInV23-n_l6Yd8QGWerw8-\"\n",
    "    gdown.download(\n",
    "        f\"https://drive.google.com/uc?export=download&confirm=pbef&id={id}\",\n",
    "        str(home_dir / \"femnist.tar.gz\"),\n",
    "    )\n",
    "\n",
    "# Decompress dataset\n",
    "if not dataset_dir.exists():\n",
    "    !tar -xf {str(home_dir)}/femnist.tar.gz -C {str(home_dir)} 2> /dev/null\n",
    "    print(f\"Dataset extracted in {dataset_dir}\")"
   ]
  },
  {
   "cell_type": "code",
   "execution_count": 5,
   "metadata": {
    "execution": {
     "iopub.execute_input": "2024-02-02T18:49:57.652923Z",
     "iopub.status.busy": "2024-02-02T18:49:57.652688Z",
     "iopub.status.idle": "2024-02-02T18:49:57.662902Z",
     "shell.execute_reply": "2024-02-02T18:49:57.662051Z",
     "shell.execute_reply.started": "2024-02-02T18:49:57.652900Z"
    },
    "id": "82ktoKJ4-IZ5"
   },
   "outputs": [
    {
     "data": {
      "text/plain": [
       "<_io.TextIOWrapper name='/home/xt0r3-user/cambridge/partii/lent/federated_learning/labs/__init__.py' mode='a+' encoding='UTF-8'>"
      ]
     },
     "execution_count": 5,
     "metadata": {},
     "output_type": "execute_result"
    }
   ],
   "source": [
    "if not (home_dir / \"common\").exists():\n",
    "    ! git clone \"https://github.com/camlsys/L361-Federated-Learning.git\" temp_repo\n",
    "\n",
    "    # Copy the folder to the current directory\n",
    "    ! cp -r \"temp_repo/labs/common\" {home_dir}\n",
    "\n",
    "    # Delete the cloned repository\n",
    "    ! rm -rf temp_repo\n",
    "\n",
    "(home_dir / \"__init__.py\").open(mode=\"a+\")"
   ]
  },
  {
   "cell_type": "code",
   "execution_count": 6,
   "metadata": {
    "execution": {
     "iopub.execute_input": "2024-02-02T18:49:57.664164Z",
     "iopub.status.busy": "2024-02-02T18:49:57.663931Z",
     "iopub.status.idle": "2024-02-02T18:49:58.376876Z",
     "shell.execute_reply": "2024-02-02T18:49:58.376237Z",
     "shell.execute_reply.started": "2024-02-02T18:49:57.664149Z"
    },
    "id": "6bLMKg-y-IZ5"
   },
   "outputs": [],
   "source": [
    "from common.client_utils import Net\n",
    "from common.client_utils import get_network_generator_cnn as get_network_generator\n",
    "from common.client_utils import load_FEMNIST_dataset, test_FEMNIST, train_FEMNIST"
   ]
  },
  {
   "cell_type": "markdown",
   "metadata": {
    "id": "C6Q6qaJbjac5"
   },
   "source": [
    "# 5. Building a Flower FL client."
   ]
  },
  {
   "cell_type": "markdown",
   "metadata": {
    "id": "sUEPLGXCxhDe"
   },
   "source": [
    "Our first client abstraction shall be as simple as possible and will require adjustment to match the structure that the flower framework expects. However, it shall be conceptually identical and require only light API changes."
   ]
  },
  {
   "cell_type": "markdown",
   "metadata": {
    "id": "Dh6ebOepFBUC"
   },
   "source": [
    "Moving from centralised ML to server-client FL requires us to provide a means of communication between the respective server and clients. The Flower Framework is ML-framework agnostic and allows various means of transmitting model parameters in the federated network. Since you may have limited resources in these labs, we will only tangentially follow the Flower framework while keeping the computational requirements to a minimum.\n",
    "\n",
    "The simplest and most common encoding for models is the mere transmission of model parameters as NumPy arrays instead of the stateful PyTorch models. The following functions allow for seamless conversions between the two."
   ]
  },
  {
   "cell_type": "code",
   "execution_count": 7,
   "metadata": {
    "execution": {
     "iopub.execute_input": "2024-02-02T18:49:58.378434Z",
     "iopub.status.busy": "2024-02-02T18:49:58.378086Z",
     "iopub.status.idle": "2024-02-02T18:49:58.382922Z",
     "shell.execute_reply": "2024-02-02T18:49:58.382171Z",
     "shell.execute_reply.started": "2024-02-02T18:49:58.378418Z"
    },
    "id": "Oh2wjiNsVTZI"
   },
   "outputs": [],
   "source": [
    "def set_model_parameters(net: Module, parameters: NDArrays) -> Module:\n",
    "    \"\"\"Function to put a set of parameters into the model object.\n",
    "\n",
    "    Args:\n",
    "        net (Module): model object.\n",
    "        parameters (NDArrays): set of parameters to put into the model.\n",
    "\n",
    "    Returns\n",
    "    -------\n",
    "        Module: updated model object.\n",
    "    \"\"\"\n",
    "    weights = parameters\n",
    "    params_dict = zip(net.state_dict().keys(), weights, strict=False)\n",
    "    state_dict = OrderedDict({k: torch.from_numpy(np.copy(v)) for k, v in params_dict})\n",
    "    net.load_state_dict(state_dict, strict=True)\n",
    "    return net\n",
    "\n",
    "\n",
    "def get_model_parameters(net: Module) -> NDArrays:\n",
    "    \"\"\"Function to get the current model parameters as NDArrays.\n",
    "\n",
    "    Args:\n",
    "        net (Module): current model object.\n",
    "\n",
    "    Returns\n",
    "    -------\n",
    "        NDArrays: set of parameters from the current model.\n",
    "    \"\"\"\n",
    "    return [val.cpu().numpy() for _, val in net.state_dict().items()]"
   ]
  },
  {
   "cell_type": "markdown",
   "metadata": {
    "id": "uHJGcNa7FBUD"
   },
   "source": [
    "With them in place, making the client abstraction compatible with Flower requires only a bit of boilerplate such as allowing NumPy arrays to be received and sent instead of PyTorch models. To achieve this, we provide a model generator capable of creating a network and using the received parameters.\n",
    "\n",
    "To keep client objects light in the memory when not used by the Flower FL simulator, the model generator is only called as needed for either `fit` or `evaluate`."
   ]
  },
  {
   "cell_type": "code",
   "execution_count": 8,
   "metadata": {
    "execution": {
     "iopub.execute_input": "2024-02-02T18:49:58.384134Z",
     "iopub.status.busy": "2024-02-02T18:49:58.383835Z",
     "iopub.status.idle": "2024-02-02T18:49:58.396109Z",
     "shell.execute_reply": "2024-02-02T18:49:58.395267Z",
     "shell.execute_reply.started": "2024-02-02T18:49:58.384112Z"
    },
    "id": "SCqhfpnJobOZ"
   },
   "outputs": [],
   "source": [
    "class FlowerRayClient(fl.client.NumPyClient):\n",
    "    def __init__(\n",
    "        self,\n",
    "        cid: int,\n",
    "        partition_dir: Path,\n",
    "        model_generator: Callable[[], Module],\n",
    "    ) -> None:\n",
    "        \"\"\"Function to initialise the client with its unique id\n",
    "        and the directory from which it can load its data.\n",
    "\n",
    "        Args:\n",
    "            cid (int): Unique client id for a client used to map it to its data partition\n",
    "            partition_dir (Path): The directory containing data for each client/client id\n",
    "            model_generator (Callable[[], Module]): The model generator function\n",
    "        \"\"\"\n",
    "        self.cid = cid\n",
    "        print(\"cid: \", self.cid)\n",
    "        self.partition_dir = partition_dir\n",
    "        self.device = str(\n",
    "            torch.device(\"cuda:0\" if torch.cuda.is_available() else \"cpu\")\n",
    "        )\n",
    "        self.model_generator: Callable[[], Module] = model_generator\n",
    "        self.properties: Dict[str, Scalar] = {\"tensor_type\": \"numpy.ndarray\"}\n",
    "\n",
    "    def set_parameters(self, parameters: NDArrays) -> Module:\n",
    "        \"\"\"Loads weights inside the network.\n",
    "\n",
    "        Args:\n",
    "            parameters (NDArrays): set of weights to be loaded.\n",
    "\n",
    "        Returns\n",
    "        -------\n",
    "            [Module]: Network with new set of weights.\n",
    "        \"\"\"\n",
    "        net = self.model_generator()\n",
    "        return set_model_parameters(net, parameters)\n",
    "\n",
    "    def get_parameters(self, config: Dict[int, Scalar]) -> NDArrays:\n",
    "        \"\"\"Returns weights from a given model. If no model is passed, then a\n",
    "        local model is created. This can be used to initialise a model in the\n",
    "        server.\n",
    "        The config param is not used but is mandatory in Flower.\n",
    "\n",
    "        Args:\n",
    "            config (Dict[int, Scalar]): dictionary containing configuration info.\n",
    "\n",
    "        Returns\n",
    "        -------\n",
    "            NDArrays: weights from the model.\n",
    "        \"\"\"\n",
    "        net = self.model_generator()\n",
    "        return get_model_parameters(net)\n",
    "\n",
    "    def fit(\n",
    "        self, parameters: NDArrays, config: Dict[str, Scalar]\n",
    "    ) -> Tuple[NDArrays, int, dict]:\n",
    "        \"\"\"Function which receives and trains a model on the local client data using parameters from the config dict\n",
    "\n",
    "        Args:\n",
    "            net (NDArrays): Pytorch model parameters\n",
    "            config (Dict[str, Scalar]): Dictionary describing the training parameters\n",
    "\n",
    "        Returns\n",
    "        -------\n",
    "            Tuple[NDArrays, int, dict]: Returns the updated model, the size of the local dataset and other metrics\n",
    "        \"\"\"\n",
    "        # Only create model right before training/testing\n",
    "        # To lower memory usage when idle\n",
    "        net = self.set_parameters(parameters)\n",
    "        net.to(self.device)\n",
    "\n",
    "        train_loader: DataLoader = self._create_data_loader(config, name=\"train\")\n",
    "        train_loss = self._train(net, train_loader=train_loader, config=config)\n",
    "        return get_model_parameters(net), len(train_loader), {\"train_loss\": train_loss}\n",
    "\n",
    "    def evaluate(\n",
    "        self, parameters: NDArrays, config: Dict[str, Scalar]\n",
    "    ) -> Tuple[float, int, dict]:\n",
    "        \"\"\"Function which receives and tests a model on the local client data using parameters from the config dict\n",
    "\n",
    "        Args:\n",
    "            net (NDArrays): Pytorch model parameters\n",
    "            config (Dict[str, Scalar]): Dictionary describing the testing parameters\n",
    "\n",
    "        Returns\n",
    "        -------\n",
    "            Tuple[float, int, dict]: Returns the loss accumulate during testing, the size of the local dataset and other metrics such as accuracy\n",
    "        \"\"\"\n",
    "        net = self.set_parameters(parameters)\n",
    "        net.to(self.device)\n",
    "\n",
    "        test_loader: DataLoader = self._create_data_loader(config, name=\"test\")\n",
    "        loss, accuracy = self._test(net, test_loader=test_loader, config=config)\n",
    "        return loss, len(test_loader), {\"local_accuracy\": accuracy}\n",
    "\n",
    "    def _create_data_loader(self, config: Dict[str, Scalar], name: str) -> DataLoader:\n",
    "        \"\"\"Creates the data loader using the specified config parameters\n",
    "\n",
    "        Args:\n",
    "            config (Dict[str, Scalar]): Dictionary containing dataloader and dataset parameters\n",
    "            mode (str): Load the training or testing set for the client\n",
    "\n",
    "        Returns\n",
    "        -------\n",
    "            DataLoader: A pytorch dataloader iterable for training/testing\n",
    "        \"\"\"\n",
    "        batch_size = int(config[\"batch_size\"])\n",
    "        num_workers = int(config[\"num_workers\"])\n",
    "        dataset = self._load_dataset(name)\n",
    "        return DataLoader(\n",
    "            dataset=dataset,\n",
    "            batch_size=batch_size,\n",
    "            shuffle=True,\n",
    "            num_workers=num_workers,\n",
    "            drop_last=(name == \"train\"),\n",
    "        )\n",
    "\n",
    "    def _load_dataset(self, name) -> Dataset:\n",
    "        full_file: Path = self.partition_dir / str(self.cid)\n",
    "        return load_FEMNIST_dataset(\n",
    "            mapping=full_file,\n",
    "            name=name,\n",
    "            data_dir=data_dir,\n",
    "        )\n",
    "\n",
    "    def _train(\n",
    "        self, net: Module, train_loader: DataLoader, config: Dict[str, Scalar]\n",
    "    ) -> float:\n",
    "        return train_FEMNIST(\n",
    "            net=net,\n",
    "            train_loader=train_loader,\n",
    "            epochs=int(config[\"epochs\"]),\n",
    "            device=self.device,\n",
    "            optimizer=torch.optim.AdamW(\n",
    "                net.parameters(),\n",
    "                lr=float(config[\"client_learning_rate\"]),\n",
    "                weight_decay=float(config[\"weight_decay\"]),\n",
    "            ),\n",
    "            criterion=torch.nn.CrossEntropyLoss(),\n",
    "            max_batches=config[\"max_batches\"],\n",
    "        )\n",
    "\n",
    "    def _test(\n",
    "        self, net, test_loader: DataLoader, config: Dict[str, Scalar]\n",
    "    ) -> Tuple[float, float]:\n",
    "        return test_FEMNIST(\n",
    "            net=net,\n",
    "            test_loader=test_loader,\n",
    "            device=self.device,\n",
    "            criterion=torch.nn.CrossEntropyLoss(),\n",
    "            max_batches=config[\"max_batches\"],\n",
    "        )\n",
    "\n",
    "    def get_properties(self, config: Dict[str, Scalar]) -> Dict[str, Scalar]:\n",
    "        \"\"\"Returns properties for this client.\n",
    "\n",
    "        Args:\n",
    "            config (Dict[str, Scalar]): Options to be used for selecting specific\n",
    "            properties.\n",
    "\n",
    "        Returns\n",
    "        -------\n",
    "            Dict[str, Scalar]: Returned properties.\n",
    "        \"\"\"\n",
    "        # pylint: disable=unused-argument\n",
    "        return self.properties\n",
    "\n",
    "    def get_train_set_size(self) -> int:\n",
    "        \"\"\"Returns the client train set size.\n",
    "\n",
    "        Returns\n",
    "        -------\n",
    "            int: train set size of the client.\n",
    "        \"\"\"\n",
    "        return len(self._load_dataset(\"train\"))  # type: ignore\n",
    "\n",
    "    def get_test_set_size(self) -> int:\n",
    "        \"\"\"Returns the client test set size.\n",
    "\n",
    "        Returns\n",
    "        -------\n",
    "            int: test set size of the client.\n",
    "        \"\"\"\n",
    "        return len(self._load_dataset(\"test\"))  # type: ignore"
   ]
  },
  {
   "cell_type": "markdown",
   "metadata": {
    "id": "7HdLT_IBFBUD"
   },
   "source": [
    "The underlying FL simulator used by Flower is based on [Ray](https://www.ray.io/). It expects each client only to require a client ID for instantiation. Therefore, using the following generator function, we can determine the specific network used for FL together with the FEMNIST partition to which the `cid` refers.\n",
    "\n",
    "While we will not use `Ray` in this lab due to its heavyweight nature, we will keep all code API compatible with the default flower framework."
   ]
  },
  {
   "cell_type": "code",
   "execution_count": 9,
   "metadata": {
    "execution": {
     "iopub.execute_input": "2024-02-02T18:49:58.398044Z",
     "iopub.status.busy": "2024-02-02T18:49:58.397614Z",
     "iopub.status.idle": "2024-02-02T18:49:58.403797Z",
     "shell.execute_reply": "2024-02-02T18:49:58.403217Z",
     "shell.execute_reply.started": "2024-02-02T18:49:58.398013Z"
    },
    "id": "Mwfh5JZmUcfd"
   },
   "outputs": [],
   "source": [
    "def get_flower_client_generator(\n",
    "    model_generator: Callable[[], Module],\n",
    "    partition_dir: Path,\n",
    "    mapping_fn: Callable[[int], int] | None = None,\n",
    ") -> Callable[[str], FlowerRayClient]:\n",
    "    \"\"\"Wrapper function for the client instance generator.\n",
    "    This provides the client generator with a model generator function.\n",
    "    Also, the partition directory must be passed.\n",
    "    A mapping function could be used for filtering/ordering clients.\n",
    "\n",
    "    Args:\n",
    "        model_generator (Callable[[], Module]): model generator function.\n",
    "        partition_dir (Path): directory containing the partition.\n",
    "        mapping_fn (Optional[Callable[[int], int]]): function mapping sorted/filtered ids to real cid.\n",
    "\n",
    "    Returns\n",
    "    -------\n",
    "        Callable[[str], FlowerRayClient]: client instance.\n",
    "    \"\"\"\n",
    "\n",
    "    def client_fn(cid: str) -> FlowerRayClient:\n",
    "        \"\"\"Creates a single client instance given the client id `cid`.\n",
    "\n",
    "        Args:\n",
    "            cid (str): client id, Flower requires this to be of type str.\n",
    "\n",
    "        Returns\n",
    "        -------\n",
    "            FlowerRayClient: client instance.\n",
    "        \"\"\"\n",
    "        return FlowerRayClient(\n",
    "            cid=mapping_fn(int(cid)) if mapping_fn is not None else int(cid),\n",
    "            partition_dir=partition_dir,\n",
    "            model_generator=model_generator,\n",
    "        )\n",
    "\n",
    "    return client_fn"
   ]
  },
  {
   "cell_type": "markdown",
   "metadata": {
    "id": "z4rBKYJqU3bf"
   },
   "source": [
    "To ensure the Flower client behaves the same as our simple demo client, a simple test using the centralised partition we defined earlier should suffice."
   ]
  },
  {
   "cell_type": "code",
   "execution_count": 10,
   "metadata": {
    "execution": {
     "iopub.execute_input": "2024-02-02T18:49:58.405203Z",
     "iopub.status.busy": "2024-02-02T18:49:58.404726Z",
     "iopub.status.idle": "2024-02-02T18:49:59.224228Z",
     "shell.execute_reply": "2024-02-02T18:49:59.223783Z",
     "shell.execute_reply.started": "2024-02-02T18:49:58.405175Z"
    },
    "id": "udMWNQ0xU8VD"
   },
   "outputs": [
    {
     "name": "stdout",
     "output_type": "stream",
     "text": [
      "cid:  0\n"
     ]
    }
   ],
   "source": [
    "network_generator = get_network_generator()\n",
    "seed_net: Net = network_generator()\n",
    "seed_model_params: NDArrays = get_model_parameters(seed_net)\n",
    "\n",
    "centralized_flower_client_generator: Callable[\n",
    "    [int], FlowerRayClient\n",
    "] = get_flower_client_generator(\n",
    "    network_generator, centralized_partition\n",
    ")  # type: ignore\n",
    "centralized_flower_client = centralized_flower_client_generator(0)"
   ]
  },
  {
   "cell_type": "code",
   "execution_count": 11,
   "metadata": {
    "execution": {
     "iopub.execute_input": "2024-02-02T18:49:59.225044Z",
     "iopub.status.busy": "2024-02-02T18:49:59.224913Z",
     "iopub.status.idle": "2024-02-02T18:50:05.375928Z",
     "shell.execute_reply": "2024-02-02T18:50:05.375467Z",
     "shell.execute_reply.started": "2024-02-02T18:49:59.225030Z"
    },
    "id": "GJima3hoFBUD"
   },
   "outputs": [
    {
     "name": "stdout",
     "output_type": "stream",
     "text": [
      "{'train_loss': 0.11736562751233577}\n"
     ]
    }
   ],
   "source": [
    "centralized_train_config: Dict[str, Any] = {\n",
    "    \"epochs\": 1,\n",
    "    \"batch_size\": 32,\n",
    "    \"client_learning_rate\": 0.01,\n",
    "    \"weight_decay\": 0.001,\n",
    "    \"num_workers\": 0,\n",
    "    \"max_batches\": 100,\n",
    "}\n",
    "\n",
    "test_config: Dict[str, Any] = {\n",
    "    \"batch_size\": 32,\n",
    "    \"num_workers\": 0,\n",
    "    \"max_batches\": 100,\n",
    "}\n",
    "\n",
    "# Train parameters on the centralised dataset\n",
    "trained_params, num_examples, train_metrics = fit_client_seeded(\n",
    "    centralized_flower_client, params=seed_model_params, conf=centralized_train_config\n",
    ")\n",
    "print(train_metrics)"
   ]
  },
  {
   "cell_type": "code",
   "execution_count": 12,
   "metadata": {
    "execution": {
     "iopub.execute_input": "2024-02-02T18:50:05.376857Z",
     "iopub.status.busy": "2024-02-02T18:50:05.376709Z",
     "iopub.status.idle": "2024-02-02T18:50:06.576866Z",
     "shell.execute_reply": "2024-02-02T18:50:06.576053Z",
     "shell.execute_reply.started": "2024-02-02T18:50:05.376841Z"
    },
    "id": "EdzCbOf0wOWC"
   },
   "outputs": [
    {
     "name": "stderr",
     "output_type": "stream",
     "text": [
      "  4%|█▋                                      | 100/2329 [00:01<00:25, 86.61it/s]"
     ]
    },
    {
     "name": "stdout",
     "output_type": "stream",
     "text": [
      "369.5580060482025 {'local_accuracy': 0.059375}\n"
     ]
    },
    {
     "name": "stderr",
     "output_type": "stream",
     "text": [
      "\n"
     ]
    }
   ],
   "source": [
    "# Test trained parameters on the centralised dataset\n",
    "loss, num_examples, test_metrics = centralized_flower_client.evaluate(\n",
    "    parameters=trained_params, config=test_config\n",
    ")\n",
    "print(loss, test_metrics)"
   ]
  },
  {
   "cell_type": "markdown",
   "metadata": {
    "id": "IXwkNqUED40K"
   },
   "source": [
    "# 6. FL with natural partitions"
   ]
  },
  {
   "cell_type": "markdown",
   "metadata": {
    "id": "OC0MPZAIM-JC"
   },
   "source": [
    "Given its naturally-partitioned nature, we can easily construct a realistic FL experiment by mapping clients one-to-one with the writers of the original symbols.\n",
    "\n",
    "To pursue this aim, we shall use the “naturally federated” partition instead of the \"centralised” one. We are then using the entire `train.csv` and `test.csv` contained in the subfolders of `client_data_mappings/fed_natural`. Each subfolder is named after the clients' ID in the dataset, i.e., from `0` to `3229`.\n",
    "\n",
    "To guarantee that each client has sufficient training data to participate meaningfully, a common practice is to set a lower bound on the number of samples a selected client is allowed to have. Generally, this threshold should be equivalent to at least one batch. We will now implement a function to sample clients from the federation that satisfies the abovementioned filter in the train set."
   ]
  },
  {
   "cell_type": "code",
   "execution_count": 13,
   "metadata": {
    "execution": {
     "iopub.execute_input": "2024-02-02T18:50:06.581582Z",
     "iopub.status.busy": "2024-02-02T18:50:06.581096Z",
     "iopub.status.idle": "2024-02-02T18:50:06.585564Z",
     "shell.execute_reply": "2024-02-02T18:50:06.585076Z",
     "shell.execute_reply.started": "2024-02-02T18:50:06.581550Z"
    },
    "id": "6QQv15XxXhvJ"
   },
   "outputs": [],
   "source": [
    "def sample_random_clients(\n",
    "    total_clients: int,\n",
    "    filter_less: int,\n",
    "    partition: Path,\n",
    "    seed: int | None = Seeds.DEFAULT,\n",
    ") -> Sequence[int]:\n",
    "    \"\"\"Function to randomly sample clients.\n",
    "    A filter on the client train set size is performed.\n",
    "\n",
    "    Args:\n",
    "        total_clients (int): total number of clients to sample.\n",
    "        filter_less (int): max number of train samples for which the client is **discarded**.\n",
    "        partition (Path): path to the folder containing the partitioning.\n",
    "        seed (Optional[int], optional): seed for the random generator. Defaults to None.\n",
    "\n",
    "    Returns\n",
    "    -------\n",
    "        Sequence[int]: list of sample client ids as int.\n",
    "    \"\"\"\n",
    "    real_federated_cid_client_generator: Callable[\n",
    "        [int], FlowerRayClient\n",
    "    ] = get_flower_client_generator(\n",
    "        network_generator, federated_partition\n",
    "    )  # type: ignore\n",
    "    if seed is not None:\n",
    "        random.seed(seed)\n",
    "    list_of_ids = []\n",
    "    while len(list_of_ids) < total_clients:\n",
    "        current_id = random.randint(0, 3229)\n",
    "        if (\n",
    "            real_federated_cid_client_generator(current_id).get_train_set_size()\n",
    "            > filter_less\n",
    "        ):\n",
    "            list_of_ids.append(current_id)\n",
    "    return list_of_ids"
   ]
  },
  {
   "cell_type": "markdown",
   "metadata": {
    "id": "togXum333D1L"
   },
   "source": [
    "While FEMNIST has more than 3000 clients, our small-scale experiments will not require more than 100 at any point."
   ]
  },
  {
   "cell_type": "code",
   "execution_count": 14,
   "metadata": {
    "execution": {
     "iopub.execute_input": "2024-02-02T18:50:06.586347Z",
     "iopub.status.busy": "2024-02-02T18:50:06.586157Z",
     "iopub.status.idle": "2024-02-02T18:50:06.612942Z",
     "shell.execute_reply": "2024-02-02T18:50:06.612526Z",
     "shell.execute_reply.started": "2024-02-02T18:50:06.586333Z"
    },
    "id": "e-s7oVYNXkwf"
   },
   "outputs": [
    {
     "name": "stdout",
     "output_type": "stream",
     "text": [
      "cid:  2530\n",
      "cid:  2184\n",
      "cid:  2907\n",
      "cid:  1498\n",
      "cid:  2338\n",
      "cid:  2399\n",
      "cid:  2997\n",
      "cid:  678\n",
      "cid:  3175\n",
      "cid:  1363\n",
      "cid:  1571\n",
      "cid:  2600\n",
      "cid:  1473\n",
      "cid:  1260\n",
      "cid:  1603\n",
      "cid:  2855\n",
      "cid:  839\n",
      "cid:  3119\n",
      "cid:  2688\n",
      "cid:  1494\n",
      "cid:  447\n",
      "cid:  1742\n",
      "cid:  2601\n",
      "cid:  1633\n",
      "cid:  267\n",
      "cid:  2070\n",
      "cid:  2863\n",
      "cid:  2736\n",
      "cid:  1425\n",
      "cid:  1653\n",
      "cid:  1652\n",
      "cid:  3020\n",
      "cid:  1273\n",
      "cid:  2718\n",
      "cid:  73\n",
      "cid:  1446\n",
      "cid:  2434\n",
      "cid:  485\n",
      "cid:  1887\n",
      "cid:  1009\n",
      "cid:  701\n",
      "cid:  1285\n",
      "cid:  2782\n",
      "cid:  2828\n",
      "cid:  2476\n",
      "cid:  1872\n",
      "cid:  2471\n",
      "cid:  1084\n",
      "cid:  823\n",
      "cid:  2243\n",
      "cid:  275\n",
      "cid:  2614\n",
      "cid:  2152\n",
      "cid:  2534\n",
      "cid:  2364\n",
      "cid:  3168\n",
      "cid:  179\n",
      "cid:  295\n",
      "cid:  1668\n",
      "cid:  2674\n",
      "cid:  2538\n",
      "cid:  220\n",
      "cid:  2767\n",
      "cid:  70\n",
      "cid:  2600\n",
      "cid:  806\n",
      "cid:  807\n",
      "cid:  428\n",
      "cid:  1167\n",
      "cid:  805\n",
      "cid:  1852\n",
      "cid:  3068\n",
      "cid:  2329\n",
      "cid:  1287\n",
      "cid:  51\n",
      "cid:  2501\n",
      "cid:  1366\n",
      "cid:  1770\n",
      "cid:  2343\n",
      "cid:  937\n",
      "cid:  2251\n",
      "cid:  187\n",
      "cid:  3178\n",
      "cid:  2274\n",
      "cid:  2975\n",
      "cid:  2645\n",
      "cid:  1258\n",
      "cid:  875\n",
      "cid:  2504\n",
      "cid:  740\n",
      "cid:  2167\n",
      "cid:  2157\n",
      "cid:  2164\n",
      "cid:  757\n",
      "cid:  3175\n",
      "cid:  2714\n",
      "cid:  206\n",
      "cid:  3057\n",
      "cid:  2026\n",
      "cid:  2882\n"
     ]
    }
   ],
   "source": [
    "total_clients: int = 100\n",
    "list_of_ids = sample_random_clients(\n",
    "    total_clients, centralized_train_config[\"batch_size\"], federated_partition\n",
    ")\n",
    "\n",
    "federated_client_generator: Callable[\n",
    "    [int], FlowerRayClient\n",
    "] = get_flower_client_generator(\n",
    "    network_generator, federated_partition, lambda seq_id: list_of_ids[seq_id]\n",
    ")  # type: ignore"
   ]
  },
  {
   "cell_type": "markdown",
   "metadata": {
    "id": "BUrsR0JJwZ5R"
   },
   "source": [
    "Now, to test that the newly partitioned clients can be trained."
   ]
  },
  {
   "cell_type": "code",
   "execution_count": 15,
   "metadata": {
    "execution": {
     "iopub.execute_input": "2024-02-02T18:50:06.613714Z",
     "iopub.status.busy": "2024-02-02T18:50:06.613538Z",
     "iopub.status.idle": "2024-02-02T18:50:06.617277Z",
     "shell.execute_reply": "2024-02-02T18:50:06.616719Z",
     "shell.execute_reply.started": "2024-02-02T18:50:06.613696Z"
    },
    "id": "1HzR2ZY7nhPm"
   },
   "outputs": [],
   "source": [
    "one_epoch_config: Dict[str, Any] = {\n",
    "    \"epochs\": 1,\n",
    "    \"batch_size\": 32,\n",
    "    \"client_learning_rate\": 0.01,\n",
    "    \"weight_decay\": 0.001,\n",
    "    \"num_workers\": 0,\n",
    "    \"max_batches\": 100,\n",
    "}\n",
    "\n",
    "five_epoch_config: Dict[str, Any] = {\n",
    "    \"epochs\": 5,\n",
    "    \"batch_size\": 32,\n",
    "    \"client_learning_rate\": 0.01,\n",
    "    \"weight_decay\": 0.001,\n",
    "    \"num_workers\": 0,\n",
    "    \"max_batches\": 100,\n",
    "}\n",
    "\n",
    "test_config: Dict[str, Any] = {\n",
    "    \"batch_size\": 32,\n",
    "    \"num_workers\": 0,\n",
    "    \"max_batches\": 100,\n",
    "}"
   ]
  },
  {
   "cell_type": "code",
   "execution_count": 16,
   "metadata": {
    "execution": {
     "iopub.execute_input": "2024-02-02T18:50:06.618354Z",
     "iopub.status.busy": "2024-02-02T18:50:06.618127Z",
     "iopub.status.idle": "2024-02-02T18:50:06.621211Z",
     "shell.execute_reply": "2024-02-02T18:50:06.620642Z",
     "shell.execute_reply.started": "2024-02-02T18:50:06.618341Z"
    },
    "id": "wyoErIaM3D1L"
   },
   "outputs": [],
   "source": [
    "num_clients = 4\n",
    "clients = random.sample(list(range(total_clients)), num_clients)"
   ]
  },
  {
   "cell_type": "code",
   "execution_count": 17,
   "metadata": {
    "execution": {
     "iopub.execute_input": "2024-02-02T18:50:06.621983Z",
     "iopub.status.busy": "2024-02-02T18:50:06.621801Z",
     "iopub.status.idle": "2024-02-02T18:50:06.624936Z",
     "shell.execute_reply": "2024-02-02T18:50:06.624347Z",
     "shell.execute_reply.started": "2024-02-02T18:50:06.621968Z"
    }
   },
   "outputs": [
    {
     "name": "stdout",
     "output_type": "stream",
     "text": [
      "cid:  3175\n",
      "cid:  51\n",
      "cid:  1668\n",
      "cid:  1498\n"
     ]
    }
   ],
   "source": [
    "generated_clients = [federated_client_generator(cid) for cid in clients]"
   ]
  },
  {
   "cell_type": "code",
   "execution_count": 18,
   "metadata": {
    "execution": {
     "iopub.execute_input": "2024-02-02T18:50:06.626223Z",
     "iopub.status.busy": "2024-02-02T18:50:06.625834Z",
     "iopub.status.idle": "2024-02-02T18:50:06.835681Z",
     "shell.execute_reply": "2024-02-02T18:50:06.835003Z",
     "shell.execute_reply.started": "2024-02-02T18:50:06.626196Z"
    },
    "id": "FC1QOYivn_PX"
   },
   "outputs": [],
   "source": [
    "trained_models = [\n",
    "    fit_client_seeded(client, seed_model_params, one_epoch_config)\n",
    "    for client in generated_clients\n",
    "]"
   ]
  },
  {
   "cell_type": "code",
   "execution_count": 19,
   "metadata": {
    "execution": {
     "iopub.execute_input": "2024-02-02T18:50:06.836835Z",
     "iopub.status.busy": "2024-02-02T18:50:06.836598Z",
     "iopub.status.idle": "2024-02-02T18:50:06.841420Z",
     "shell.execute_reply": "2024-02-02T18:50:06.840802Z",
     "shell.execute_reply.started": "2024-02-02T18:50:06.836813Z"
    },
    "id": "ATLQPQ_fm9ph"
   },
   "outputs": [
    {
     "name": "stdout",
     "output_type": "stream",
     "text": [
      "[[4, {'train_loss': 0.12444548681378365}], [11, {'train_loss': 0.12350456416606903}], [3, {'train_loss': 0.12324738750855128}], [4, {'train_loss': 0.12358858622610569}]]\n"
     ]
    }
   ],
   "source": [
    "trained_model_parameters = [model for model, *rest in trained_models]\n",
    "trained_model_metrics = [rest for _, *rest in trained_models]\n",
    "print(trained_model_metrics)"
   ]
  },
  {
   "cell_type": "code",
   "execution_count": 20,
   "metadata": {
    "execution": {
     "iopub.execute_input": "2024-02-02T18:50:06.842511Z",
     "iopub.status.busy": "2024-02-02T18:50:06.842204Z",
     "iopub.status.idle": "2024-02-02T18:50:07.810911Z",
     "shell.execute_reply": "2024-02-02T18:50:07.810253Z",
     "shell.execute_reply.started": "2024-02-02T18:50:06.842487Z"
    }
   },
   "outputs": [
    {
     "name": "stdout",
     "output_type": "stream",
     "text": [
      "[[4, {'train_loss': 0.10077909007668495}], [11, {'train_loss': 0.11037736318328163}], [3, {'train_loss': 0.10799879332383473}], [4, {'train_loss': 0.09798731282353401}]]\n"
     ]
    }
   ],
   "source": [
    "five_epoch_trained_models = [\n",
    "    fit_client_seeded(client, seed_model_params, five_epoch_config)\n",
    "    for client in generated_clients\n",
    "]\n",
    "\n",
    "five_epoch_trained_model_parameters = [\n",
    "    model for model, *rest in five_epoch_trained_models\n",
    "]\n",
    "five_epoch_trained_model_metrics = [rest for _, *rest in five_epoch_trained_models]\n",
    "print(five_epoch_trained_model_metrics)"
   ]
  },
  {
   "cell_type": "markdown",
   "metadata": {
    "id": "qgg0G0i23D1L"
   },
   "source": [
    "**Question 5 (Part II ✅ | Part III/MPhil ✅):**\n",
    "\n",
    "(You need to provide the answer with **code** for this question. Written argumentation is **strongly** recommended.)\n",
    "\n",
    "If we index the weights of an ML model consecutively, with the assumed architecture being the same, we can visualize it as a single flattened 1-D vector. One, highly imperfect, metric for determining how similar two ML models are is cosine similarity. We can use this metric to compare the models our clients produce are.\n",
    "\n",
    "1. Write functions to:\n",
    "    - Flatten the `NDArrays` objects into a single 1-D vector.\n",
    "        - The function `flatten` concatenates the parameter arrays in order into one big, flattened array. Note that this works if we have a ragged array/`NDArray` of `NDArrays` or scalars.\n",
    "    - Compute the cosine similarity of two 1-D vectors based on their inner product and norms.\n",
    "        - This function first flattens any ragged arrays.\n",
    "        - The formula for the cosine similarity is $$\\frac{v_1 \\cdot v_2}{|v_1| |v_2|}$$, where $(\\cdot)$ denotes the dot product and $|v|$ denotes the length of the vector. The appropriate functions in numpy are `np.dot` and `np.linalg.norm` which are used in the function `cosine_similarity` to compute the cosine similarity.\n",
    "2. Compute a similarity matrix between all client models and plot it.\n",
    "    - We use a nested for loop to compute the pairwise similarities, then use `sns.heatmap` to plot the heatmap of the cosine similarities.\n",
    "3. What happens to the similarity matrix if you increase the number of local epochs that clients train for to 5 from 1? Why do you think that is?\n",
    "    - The off-diagonal elements become smaller, as the local models train for more epochs on their own datasets, making them diverge further from the initial shared model.\n",
    "    - Note that I have saved the initially generated clients in a list called `generated_clients` to ensure a fair comparison of the clients.\n",
    ">You may want to save the parameters calculated here separately from the deault ones as both sets will be needed in future questions."
   ]
  },
  {
   "cell_type": "code",
   "execution_count": 21,
   "metadata": {
    "execution": {
     "iopub.execute_input": "2024-02-02T18:50:07.812320Z",
     "iopub.status.busy": "2024-02-02T18:50:07.811963Z",
     "iopub.status.idle": "2024-02-02T18:50:07.816394Z",
     "shell.execute_reply": "2024-02-02T18:50:07.815805Z",
     "shell.execute_reply.started": "2024-02-02T18:50:07.812294Z"
    }
   },
   "outputs": [],
   "source": [
    "def flatten(arrs: List[np.ndarray]):\n",
    "    return np.concatenate([np.array(item).flatten() for item in arrs], axis=0)"
   ]
  },
  {
   "cell_type": "code",
   "execution_count": 22,
   "metadata": {
    "execution": {
     "iopub.execute_input": "2024-02-02T18:50:07.817700Z",
     "iopub.status.busy": "2024-02-02T18:50:07.817331Z",
     "iopub.status.idle": "2024-02-02T18:50:07.823413Z",
     "shell.execute_reply": "2024-02-02T18:50:07.822796Z",
     "shell.execute_reply.started": "2024-02-02T18:50:07.817685Z"
    }
   },
   "outputs": [],
   "source": [
    "def cosine_similarity(ragged_v1, ragged_v2):\n",
    "    v1 = flatten(ragged_v1)\n",
    "    v2 = flatten(ragged_v2)\n",
    "    return np.dot(v1, v2) / (norm(v1) * norm(v2))"
   ]
  },
  {
   "cell_type": "code",
   "execution_count": 23,
   "metadata": {
    "execution": {
     "iopub.execute_input": "2024-02-02T18:50:07.824288Z",
     "iopub.status.busy": "2024-02-02T18:50:07.824143Z",
     "iopub.status.idle": "2024-02-02T18:50:07.827535Z",
     "shell.execute_reply": "2024-02-02T18:50:07.826917Z",
     "shell.execute_reply.started": "2024-02-02T18:50:07.824276Z"
    }
   },
   "outputs": [],
   "source": [
    "def get_pairwise_similarities(params):\n",
    "    similarities = []\n",
    "\n",
    "    for m1 in tqdm(params):\n",
    "        similarities.append([])\n",
    "        for m2 in params:\n",
    "            similarities[-1].append(cosine_similarity(m1, m2))\n",
    "\n",
    "    return similarities"
   ]
  },
  {
   "cell_type": "code",
   "execution_count": 24,
   "metadata": {
    "execution": {
     "iopub.execute_input": "2024-02-02T18:50:07.828459Z",
     "iopub.status.busy": "2024-02-02T18:50:07.828175Z",
     "iopub.status.idle": "2024-02-02T18:50:07.991627Z",
     "shell.execute_reply": "2024-02-02T18:50:07.990926Z",
     "shell.execute_reply.started": "2024-02-02T18:50:07.828437Z"
    }
   },
   "outputs": [
    {
     "name": "stderr",
     "output_type": "stream",
     "text": [
      "100%|███████████████████████████████████████████| 4/4 [00:00<00:00, 1366.22it/s]\n"
     ]
    },
    {
     "data": {
      "text/plain": [
       "[[Text(0.5, 0, '94'),\n",
       "  Text(1.5, 0, '74'),\n",
       "  Text(2.5, 0, '58'),\n",
       "  Text(3.5, 0, '3')],\n",
       " [Text(0, 0.5, '94'),\n",
       "  Text(0, 1.5, '74'),\n",
       "  Text(0, 2.5, '58'),\n",
       "  Text(0, 3.5, '3')],\n",
       " Text(0.5, 1.0, '1 epoch similarity matrix')]"
      ]
     },
     "execution_count": 24,
     "metadata": {},
     "output_type": "execute_result"
    },
    {
     "data": {
      "image/png": "[encoded data removed]",
      "text/plain": [
       "<Figure size 640x480 with 2 Axes>"
      ]
     },
     "metadata": {},
     "output_type": "display_data"
    }
   ],
   "source": [
    "sns.heatmap(get_pairwise_similarities(trained_model_parameters)).set(\n",
    "    xticklabels=clients, yticklabels=clients, title=\"1 epoch similarity matrix\"\n",
    ")"
   ]
  },
  {
   "cell_type": "code",
   "execution_count": 25,
   "metadata": {
    "execution": {
     "iopub.execute_input": "2024-02-02T18:50:07.993096Z",
     "iopub.status.busy": "2024-02-02T18:50:07.992764Z",
     "iopub.status.idle": "2024-02-02T18:50:08.145668Z",
     "shell.execute_reply": "2024-02-02T18:50:08.144999Z",
     "shell.execute_reply.started": "2024-02-02T18:50:07.993065Z"
    }
   },
   "outputs": [
    {
     "name": "stderr",
     "output_type": "stream",
     "text": [
      "100%|████████████████████████████████████████████| 4/4 [00:00<00:00, 922.69it/s]\n"
     ]
    },
    {
     "data": {
      "text/plain": [
       "[[Text(0.5, 0, '94'),\n",
       "  Text(1.5, 0, '74'),\n",
       "  Text(2.5, 0, '58'),\n",
       "  Text(3.5, 0, '3')],\n",
       " [Text(0, 0.5, '94'),\n",
       "  Text(0, 1.5, '74'),\n",
       "  Text(0, 2.5, '58'),\n",
       "  Text(0, 3.5, '3')],\n",
       " Text(0.5, 1.0, '5 epoch similarity matrix')]"
      ]
     },
     "execution_count": 25,
     "metadata": {},
     "output_type": "execute_result"
    },
    {
     "data": {
      "image/png": "[encoded data removed]",
      "text/plain": [
       "<Figure size 640x480 with 2 Axes>"
      ]
     },
     "metadata": {},
     "output_type": "display_data"
    }
   ],
   "source": [
    "sns.heatmap(get_pairwise_similarities(five_epoch_trained_model_parameters)).set(\n",
    "    xticklabels=clients, yticklabels=clients, title=\"5 epoch similarity matrix\"\n",
    ")"
   ]
  },
  {
   "cell_type": "markdown",
   "metadata": {
    "id": "CwWkQ6iixhDh"
   },
   "source": [
    "**Question 6 (Part III/MPhil ✅):**\n",
    "\n",
    "(You need to provide the answer with **code** for this question. Written argumentation is **strongly** recommended.)\n",
    "\n",
    "One reason that cosine similarity is an imperfect metric is because it considers weights from different layers to be equally important to the model in terms of its behavior and performance. We can thus create a slightly more detailed picture by tracking the cosine similarity across layers.\n",
    "\n",
    "1. Create a function which computes the pairwise cosine similarity between flattened model layers across clients, i.e. the cosine similarity between the flattened $l_i$ in `client_x` and the flattened $l_i$ in `client_y`.\n",
    "2. Plot the similarity of the models at each layer between the most similar client pair and the most disimilar client pair (as determined by the multi-epoch experiment) using the **one-epoch models**, how do the curves you observe relate to the general cosine similarity you computed for the flattened models.\n",
    "3. What happens to the curves if you increase the number of local epochs to 5? How does this behavior relate to what you observed in the previous exercise ?\n",
    "4. **Optional**: Do you think there is any connection to the underlying architecture? Why? Repeat the above experiments using an MLP such as the one provided by the  `get_network_generator_mlp` in `client_utils` and compare results against the CNN."
   ]
  },
  {
   "cell_type": "code",
   "execution_count": 26,
   "metadata": {
    "execution": {
     "iopub.execute_input": "2024-02-02T18:50:08.146661Z",
     "iopub.status.busy": "2024-02-02T18:50:08.146454Z",
     "iopub.status.idle": "2024-02-02T18:50:08.151111Z",
     "shell.execute_reply": "2024-02-02T18:50:08.150611Z",
     "shell.execute_reply.started": "2024-02-02T18:50:08.146642Z"
    }
   },
   "outputs": [
    {
     "data": {
      "text/plain": [
       "0.97537756"
      ]
     },
     "execution_count": 26,
     "metadata": {},
     "output_type": "execute_result"
    }
   ],
   "source": [
    "def get_pairwise_cos_similarity(c1, c2, layer_num, params):\n",
    "    return cosine_similarity(\n",
    "        flatten(params[c1][layer_num]), flatten(params[c2][layer_num])\n",
    "    )\n",
    "\n",
    "\n",
    "get_pairwise_cos_similarity(1, 3, 1, trained_model_parameters)"
   ]
  },
  {
   "cell_type": "code",
   "execution_count": 27,
   "metadata": {
    "execution": {
     "iopub.execute_input": "2024-02-02T18:50:08.152508Z",
     "iopub.status.busy": "2024-02-02T18:50:08.152057Z",
     "iopub.status.idle": "2024-02-02T18:50:08.391707Z",
     "shell.execute_reply": "2024-02-02T18:50:08.391283Z",
     "shell.execute_reply.started": "2024-02-02T18:50:08.152477Z"
    }
   },
   "outputs": [
    {
     "name": "stderr",
     "output_type": "stream",
     "text": [
      "100%|████████████████████████████████████████████| 4/4 [00:00<00:00, 811.98it/s]\n"
     ]
    },
    {
     "data": {
      "image/png": "[encoded data removed]",
      "text/plain": [
       "<Figure size 640x480 with 2 Axes>"
      ]
     },
     "metadata": {},
     "output_type": "display_data"
    }
   ],
   "source": [
    "A = np.array(get_pairwise_similarities(trained_model_parameters))\n",
    "mini_c1, mini_c2 = np.unravel_index(A.argmin(), A.shape)\n",
    "maxi_c1, maxi_c2 = np.unravel_index(A.argmax(), A.shape)\n",
    "\n",
    "fig, ax = plt.subplots(2)\n",
    "sns.barplot(\n",
    "    [\n",
    "        get_pairwise_cos_similarity(\n",
    "            mini_c1, mini_c2, layer_num, trained_model_parameters\n",
    "        )\n",
    "        for layer_num in range(len(trained_model_parameters))\n",
    "    ],\n",
    "    ax=ax[0],\n",
    ").set_title(\"Least similar pair\")\n",
    "sns.barplot(\n",
    "    [\n",
    "        get_pairwise_cos_similarity(\n",
    "            maxi_c1, maxi_c2, layer_num, trained_model_parameters\n",
    "        )\n",
    "        for layer_num in range(len(trained_model_parameters))\n",
    "    ],\n",
    "    ax=ax[1],\n",
    ").set_title(\"Most similar pair\")\n",
    "plt.tight_layout(pad=3)"
   ]
  },
  {
   "cell_type": "markdown",
   "metadata": {
    "id": "ifI1FmOywjqL"
   },
   "source": [
    "# 7. Federated training with Flower"
   ]
  },
  {
   "cell_type": "markdown",
   "metadata": {
    "id": "pfDcWWoc2B5q"
   },
   "source": [
    "The two basic blocks of synchronous server-client FL systems are:\n",
    "- A client with some local training method and data---i.e., SGD. This is what we have built thus far.\n",
    "- A server which coordinates training sends the federated model to clients at the start of each round and aggregates model updates at the end of each round."
   ]
  },
  {
   "cell_type": "markdown",
   "metadata": {
    "id": "Fk9W7CTgoUxS"
   },
   "source": [
    "\n",
    "![picture](https://drive.google.com/uc?id=1Db_Uys2QPFHW6cMranZ_QXo2vC0A_C-N)"
   ]
  },
  {
   "cell_type": "markdown",
   "metadata": {
    "id": "Wdcfcz_e2B5q"
   },
   "source": [
    "While the variety of client local training methods is as wide as ML, server training varies depending on which **aggregation algorithm** combines the model updates and forms the new federated model. Flower refers to the component that controls the aggregation and train/test configuration as a **strategy**. For our labs, strategy and aggregation algorithms will be used interchangeably.\n",
    "\n",
    "The strategy we shall use is [FedAvg](https://arxiv.org/abs/1602.05629):\n",
    "\n",
    "$G^{r+1} = G^{r} + \\eta \\left( \\sum_{k=1}^{m} p_k (G^r_k - G^{r}) \\right)$,\n",
    "\n",
    "where $G^{r+1}$ is the model for the next round, which is formed by applying a model update to the current round model $G^{r}$ weighted by the aggregation learning rate $\\eta$. The model update is constructed by a sum of client models $G^{r}_k$ where each client model is weighted by $p_k$. The weight factor is usually set to $p_k = \\tfrac{n_k}{N}$---the number of training examples held by said client divided by the example count of each client in the round $N = \\sum_{k=1}^{m} n_k$.\n",
    "\n"
   ]
  },
  {
   "cell_type": "markdown",
   "metadata": {
    "id": "7unJaupF-IaB"
   },
   "source": [
    "**Question 7 (Part II ✅ | Part III/MPhil ✅):**\n",
    "\n",
    "(You need to provide the answer with **code** for this question. Written argumentation is **strongly** recommended.)\n",
    "\n",
    "Averaging models is meant to provide us with a reasonable compromise between the desired models of all clients involved. Given what you already know about the similarity of client models, we can test if this is true.\n",
    "1. Write a function to compute the weighted average of two `NDArrays` objects while preserving the layer-structure. Use the FedAvg equation above with $p_k = \\tfrac{n_k}{N}$.\n",
    "    - This is the `average_models` function that takes the `client_models` argument, and assumes that it contains the parameters of the models for each client in the same order as they clients appear in the `clients` array. Then it uses `np.average` with the `weights` parameter set to be the `p_k` array to compute the FedAvg weighted average for each layer.\n",
    "2. Compute the average model of the client models above, both the one-epoch and multi-epoch ones.\n",
    "    - This is done by simply calling `average_models` on the appropriate set of parameters.\n",
    "3. Add the averaged models to the cosine-similarity matrices built above, how does it relate to the client models?\n",
    "    - It is quite similar to every one of the client models. This makes some intuitive sense, as from the perspective of client $i$, the averaged model is $\\frac{n_i}{N}$ of itself, and $\\frac{N-n_i}{N}$ the original model with some changes. A gross approximation of those changes are that they are some random Gaussian noise with mean $0$ and variance $\\sigma^2$. During the weighted average, if these noises are independent, then the total noise will have mean $0$ and variance $\\sum_{j=1}^k p_j^2 \\sigma^2$, where the squared terms sum to something smaller than $1$, making the divergence from any client smaller. (In the case of all the noise terms being $\\frac{1}{k}$, this sum becomes exactly $\\frac{\\sigma^2}{k}$)\n",
    "    - The 5-epoch model is less similar than the 1-epoch model, as we allow more divergence for every client model by increasing the number of epochs, but is still quite similar."
   ]
  },
  {
   "cell_type": "code",
   "execution_count": 28,
   "metadata": {
    "execution": {
     "iopub.execute_input": "2024-02-02T18:50:08.392615Z",
     "iopub.status.busy": "2024-02-02T18:50:08.392443Z",
     "iopub.status.idle": "2024-02-02T18:50:08.395929Z",
     "shell.execute_reply": "2024-02-02T18:50:08.395533Z",
     "shell.execute_reply.started": "2024-02-02T18:50:08.392597Z"
    }
   },
   "outputs": [],
   "source": [
    "def average_models(client_models):\n",
    "    # Note: np.average normalizes the weights anyway, so there's no need to do that\n",
    "    p = np.array([client.get_train_set_size() for client in generated_clients])\n",
    "\n",
    "    average_model = []\n",
    "    for layer_num in range(len(client_models[0])):\n",
    "        average_model.append(\n",
    "            np.average([model[layer_num] for model in client_models], weights=p, axis=0)\n",
    "        )\n",
    "\n",
    "    return average_model"
   ]
  },
  {
   "cell_type": "code",
   "execution_count": 29,
   "metadata": {
    "execution": {
     "iopub.execute_input": "2024-02-02T18:50:08.396614Z",
     "iopub.status.busy": "2024-02-02T18:50:08.396477Z",
     "iopub.status.idle": "2024-02-02T18:50:08.614519Z",
     "shell.execute_reply": "2024-02-02T18:50:08.614066Z",
     "shell.execute_reply.started": "2024-02-02T18:50:08.396601Z"
    }
   },
   "outputs": [
    {
     "name": "stderr",
     "output_type": "stream",
     "text": [
      "100%|████████████████████████████████████████████| 5/5 [00:00<00:00, 187.25it/s]\n"
     ]
    },
    {
     "data": {
      "image/png": "[encoded data removed]",
      "text/plain": [
       "<Figure size 640x480 with 2 Axes>"
      ]
     },
     "metadata": {},
     "output_type": "display_data"
    }
   ],
   "source": [
    "labels = clients + [\"averaged_model\"]\n",
    "\n",
    "sns.heatmap(\n",
    "    get_pairwise_similarities(\n",
    "        trained_model_parameters + [average_models(trained_model_parameters)]\n",
    "    )\n",
    ").set(\n",
    "    xticklabels=labels,\n",
    "    yticklabels=labels,\n",
    "    title=\"1 epoch similarity with average model\",\n",
    ")\n",
    "\n",
    "None"
   ]
  },
  {
   "cell_type": "code",
   "execution_count": 30,
   "metadata": {
    "execution": {
     "iopub.execute_input": "2024-02-02T18:50:08.615287Z",
     "iopub.status.busy": "2024-02-02T18:50:08.615143Z",
     "iopub.status.idle": "2024-02-02T18:50:08.790873Z",
     "shell.execute_reply": "2024-02-02T18:50:08.790238Z",
     "shell.execute_reply.started": "2024-02-02T18:50:08.615271Z"
    }
   },
   "outputs": [
    {
     "name": "stderr",
     "output_type": "stream",
     "text": [
      "100%|████████████████████████████████████████████| 5/5 [00:00<00:00, 752.18it/s]\n"
     ]
    },
    {
     "data": {
      "text/plain": [
       "[[Text(0.5, 0, '94'),\n",
       "  Text(1.5, 0, '74'),\n",
       "  Text(2.5, 0, '58'),\n",
       "  Text(3.5, 0, '3'),\n",
       "  Text(4.5, 0, 'average')],\n",
       " [Text(0, 0.5, '94'),\n",
       "  Text(0, 1.5, '74'),\n",
       "  Text(0, 2.5, '58'),\n",
       "  Text(0, 3.5, '3'),\n",
       "  Text(0, 4.5, 'average')],\n",
       " Text(0.5, 1.0, '5 epoch similarity with average model')]"
      ]
     },
     "execution_count": 30,
     "metadata": {},
     "output_type": "execute_result"
    },
    {
     "data": {
      "image/png": "[encoded data removed]",
      "text/plain": [
       "<Figure size 640x480 with 2 Axes>"
      ]
     },
     "metadata": {},
     "output_type": "display_data"
    }
   ],
   "source": [
    "labels = clients + [\"averaged_model\"]\n",
    "\n",
    "sns.heatmap(\n",
    "    get_pairwise_similarities(\n",
    "        five_epoch_trained_model_parameters\n",
    "        + [average_models(five_epoch_trained_model_parameters)]\n",
    "    )\n",
    ").set(\n",
    "    xticklabels=labels,\n",
    "    yticklabels=labels,\n",
    "    title=\"5 epoch similarity with average model\",\n",
    ")"
   ]
  },
  {
   "cell_type": "markdown",
   "metadata": {
    "id": "RHlT2igu-IaB"
   },
   "source": [
    "**Question 8 (Part III/MPhil ✅):**\n",
    "\n",
    "(You need to provide the answer with **code** for this question. Written argumentation is **strongly** recommended.)\n",
    "\n",
    "\n",
    "1. Repeat the procedure above but for layer-wise cosine similarity and plot the cosine similarity of the two clients client most similar and most disimillar to the averaged model (as determined by the five-epoch condition) using the one-epoch models.\n",
    "2. How does the relationship change for the higher-epoch condition?"
   ]
  },
  {
   "cell_type": "markdown",
   "metadata": {
    "id": "cxsFjUN03D1M"
   },
   "source": [
    "The pieces necessary for starting an FL simulation are now in play; we need to arrange them to fit the Flower API. First, we shall require a separate federated evaluation function which can be called outside the context of a specific client. It will use the centralised test set to be as simple as possible."
   ]
  },
  {
   "cell_type": "code",
   "execution_count": 31,
   "metadata": {
    "execution": {
     "iopub.execute_input": "2024-02-02T18:50:08.791708Z",
     "iopub.status.busy": "2024-02-02T18:50:08.791560Z",
     "iopub.status.idle": "2024-02-02T18:50:08.798261Z",
     "shell.execute_reply": "2024-02-02T18:50:08.797271Z",
     "shell.execute_reply.started": "2024-02-02T18:50:08.791693Z"
    },
    "id": "OO7CqzaE3D1M"
   },
   "outputs": [],
   "source": [
    "def get_federated_evaluation_function(\n",
    "    batch_size: int,\n",
    "    num_workers: int,\n",
    "    model_generator: Callable[[], Module],\n",
    "    criterion: Module,\n",
    "    max_batches: int,\n",
    ") -> Callable[[int, NDArrays, Dict[str, Any]], Tuple[float, Dict[str, Scalar]]]:\n",
    "    \"\"\"Wrapper function for the external federated evaluation function.\n",
    "    It provides the external federated evaluation function with some\n",
    "    parameters for the dataloader, the model generator function, and\n",
    "    the criterion used in the evaluation.\n",
    "\n",
    "    Args:\n",
    "        batch_size (int): batch size of the test set to use.\n",
    "        num_workers (int): correspond to `num_workers` param in the Dataloader object.\n",
    "        model_generator (Callable[[], Module]):  model generator function.\n",
    "        criterion (Module): PyTorch Module containing the criterion for evaluating the model.\n",
    "\n",
    "    Returns\n",
    "    -------\n",
    "        Callable[[int, NDArrays, Dict[str, Any]], Tuple[float, Dict[str, Scalar]]]: external federated evaluation function.\n",
    "    \"\"\"\n",
    "\n",
    "    def federated_evaluation_function(\n",
    "        server_round: int,\n",
    "        parameters: NDArrays,\n",
    "        fed_eval_config: Dict[\n",
    "            str, Any\n",
    "        ],  # mandatory argument, even if it's not being used\n",
    "    ) -> Tuple[float, Dict[str, Scalar]]:\n",
    "        \"\"\"Evaluation function external to the federation.\n",
    "        It uses the centralized val set for sake of simplicity.\n",
    "\n",
    "        Args:\n",
    "            server_round (int): current federated round.\n",
    "            parameters (NDArrays): current model parameters.\n",
    "            fed_eval_config (Dict[str, Any]): mandatory argument in Flower, can contain some configuration info\n",
    "\n",
    "        Returns\n",
    "        -------\n",
    "            Tuple[float, Dict[str, Scalar]]: evaluation results\n",
    "        \"\"\"\n",
    "        device: str = get_device()\n",
    "        net: Module = set_model_parameters(model_generator(), parameters)\n",
    "        net.to(device)\n",
    "\n",
    "        full_file: Path = centralized_mapping\n",
    "        dataset: Dataset = load_FEMNIST_dataset(data_dir, full_file, \"val\")\n",
    "\n",
    "        valid_loader = DataLoader(\n",
    "            dataset=dataset,\n",
    "            batch_size=batch_size,\n",
    "            shuffle=False,\n",
    "            num_workers=num_workers,\n",
    "            drop_last=False,\n",
    "        )\n",
    "\n",
    "        loss, acc = test_FEMNIST(\n",
    "            net=net,\n",
    "            test_loader=valid_loader,\n",
    "            device=device,\n",
    "            criterion=criterion,\n",
    "            max_batches=max_batches,\n",
    "        )\n",
    "        return loss, {\"accuracy\": acc}\n",
    "\n",
    "    return federated_evaluation_function\n",
    "\n",
    "\n",
    "federated_evaluation_function = get_federated_evaluation_function(\n",
    "    batch_size=test_config[\"batch_size\"],\n",
    "    num_workers=test_config[\"num_workers\"],\n",
    "    model_generator=network_generator,\n",
    "    criterion=nn.CrossEntropyLoss(),\n",
    "    max_batches=test_config[\"max_batches\"],\n",
    ")"
   ]
  },
  {
   "cell_type": "code",
   "execution_count": 32,
   "metadata": {
    "execution": {
     "iopub.execute_input": "2024-02-02T18:50:08.799968Z",
     "iopub.status.busy": "2024-02-02T18:50:08.799579Z",
     "iopub.status.idle": "2024-02-02T18:50:08.806099Z",
     "shell.execute_reply": "2024-02-02T18:50:08.805427Z",
     "shell.execute_reply.started": "2024-02-02T18:50:08.799935Z"
    },
    "id": "7D1cEkrB2B5r"
   },
   "outputs": [],
   "source": [
    "def aggregate_weighted_average(metrics: List[Tuple[int, dict]]) -> dict:\n",
    "    \"\"\"Generic function to combine results from multiple clients\n",
    "    following training or evaluation.\n",
    "\n",
    "    Args:\n",
    "        metrics (List[Tuple[int, dict]]): collected clients metrics\n",
    "\n",
    "    Returns\n",
    "    -------\n",
    "        dict: result dictionary containing the aggregate of the metrics passed.\n",
    "    \"\"\"\n",
    "    average_dict: dict = defaultdict(list)\n",
    "    total_examples: int = 0\n",
    "    for num_examples, metrics_dict in metrics:\n",
    "        for key, val in metrics_dict.items():\n",
    "            if isinstance(val, numbers.Number):\n",
    "                average_dict[key].append((num_examples, val))  # type:ignore\n",
    "        total_examples += num_examples\n",
    "    return {\n",
    "        key: {\n",
    "            \"avg\": float(\n",
    "                sum([num_examples * metr for num_examples, metr in val])\n",
    "                / float(total_examples)\n",
    "            ),\n",
    "            \"all\": val,\n",
    "        }\n",
    "        for key, val in average_dict.items()\n",
    "    }"
   ]
  },
  {
   "cell_type": "code",
   "execution_count": 33,
   "metadata": {
    "execution": {
     "iopub.execute_input": "2024-02-02T18:50:08.806991Z",
     "iopub.status.busy": "2024-02-02T18:50:08.806757Z",
     "iopub.status.idle": "2024-02-02T18:50:08.810380Z",
     "shell.execute_reply": "2024-02-02T18:50:08.809387Z",
     "shell.execute_reply.started": "2024-02-02T18:50:08.806975Z"
    },
    "id": "-sxyPBQ0zSoD"
   },
   "outputs": [],
   "source": [
    "# Federated configuration dictionary\n",
    "federated_train_config: Dict[str, Any] = {\n",
    "    \"epochs\": 5,\n",
    "    \"batch_size\": 32,\n",
    "    \"client_learning_rate\": 0.01,\n",
    "    \"weight_decay\": 0.001,\n",
    "    \"num_workers\": 0,\n",
    "    \"max_batches\": 100,\n",
    "}"
   ]
  },
  {
   "cell_type": "markdown",
   "metadata": {
    "id": "JNLIfqk0xhDj"
   },
   "source": [
    "The only challenge left is the FL simulation itself. In `Flower`, a `Server` object handles this for us by using `Ray` and spawning many heavyweight worker process.\n",
    "\n",
    "Given the limited-resource scenario in which we find ourselves, we provide you with a slightly modified simulation function which uses a simple thread pool. Feel free to swap it out for the original simulation or replace it with your own implementation if so inclined.\n",
    "\n",
    "> The server we use is not the default `Flower` server as it returns the model parameters from every single round in a `(round, NDArrays)` tuple."
   ]
  },
  {
   "cell_type": "code",
   "execution_count": 34,
   "metadata": {
    "execution": {
     "iopub.execute_input": "2024-02-02T18:50:08.811657Z",
     "iopub.status.busy": "2024-02-02T18:50:08.811289Z",
     "iopub.status.idle": "2024-02-02T18:50:08.817517Z",
     "shell.execute_reply": "2024-02-02T18:50:08.816910Z",
     "shell.execute_reply.started": "2024-02-02T18:50:08.811631Z"
    },
    "id": "1Fs5gtK-3D1M"
   },
   "outputs": [],
   "source": [
    "def save_history(hist: History, name: str):\n",
    "    time = int(datetime.now(timezone.utc).timestamp())\n",
    "    path = home_dir / \"histories\"\n",
    "    path.mkdir(exist_ok=True)\n",
    "    path = path / f\"hist_{time}_{name}.json\"\n",
    "    with open(path, \"w\", encoding=\"utf-8\") as f:\n",
    "        json.dump(hist.__dict__, f, ensure_ascii=False, indent=4, default=convert)\n",
    "\n",
    "\n",
    "def start_seeded_simulation(\n",
    "    client_fn: Callable[[int], Client],\n",
    "    num_clients: int,\n",
    "    config: ServerConfig,\n",
    "    strategy: Strategy,\n",
    "    name: str,\n",
    "    return_all_parameters: bool = False,\n",
    "    seed: int = Seeds.DEFAULT,\n",
    "    iteration: int = 0,\n",
    ") -> Tuple[List[Tuple[int, NDArrays]], History]:\n",
    "    \"\"\"Wrapper to always seed client selection.\"\"\"\n",
    "    np.random.seed(seed ^ iteration)\n",
    "    torch.manual_seed(seed ^ iteration)\n",
    "    random.seed(seed ^ iteration)\n",
    "    parameter_list, hist = fl.simulation.start_simulation_no_ray(\n",
    "        client_fn=client_fn,\n",
    "        num_clients=num_clients,\n",
    "        client_resources={},\n",
    "        config=config,\n",
    "        strategy=strategy,\n",
    "    )\n",
    "    save_history(hist, name)\n",
    "    return parameter_list, hist"
   ]
  },
  {
   "cell_type": "code",
   "execution_count": 35,
   "metadata": {
    "execution": {
     "iopub.execute_input": "2024-02-02T18:50:08.819058Z",
     "iopub.status.busy": "2024-02-02T18:50:08.818613Z",
     "iopub.status.idle": "2024-02-02T18:50:08.827685Z",
     "shell.execute_reply": "2024-02-02T18:50:08.826857Z",
     "shell.execute_reply.started": "2024-02-02T18:50:08.819028Z"
    },
    "id": "JkqplxMXLm8K"
   },
   "outputs": [],
   "source": [
    "num_rounds = 10\n",
    "\n",
    "num_total_clients = 20\n",
    "\n",
    "num_evaluate_clients = 0\n",
    "num_clients_per_round = 5\n",
    "\n",
    "\n",
    "def run_simulation(\n",
    "    # How long the FL process runs for:\n",
    "    num_rounds: int = num_rounds,\n",
    "    # Number of clients available\n",
    "    num_total_clients: int = num_total_clients,\n",
    "    # Number of clients used for train/eval\n",
    "    num_clients_per_round: int = num_clients_per_round,\n",
    "    num_evaluate_clients: int = num_evaluate_clients,\n",
    "    # If less clients are overall available stop FL\n",
    "    min_available_clients: int = num_total_clients,\n",
    "    # If less clients are available for fit/eval stop FL\n",
    "    min_fit_clients: int = num_clients_per_round,\n",
    "    min_evaluate_clients: int = num_evaluate_clients,\n",
    "    # Function to test the federated model performance\n",
    "    # external to a client instantiation\n",
    "    evaluate_fn=federated_evaluation_function,\n",
    "    # Functions to generate a config for client fit/evaluate\n",
    "    # by-default the same config is shallow-copied to all clients in Flower\n",
    "    # this version simply uses the configs defined above\n",
    "    on_fit_config_fn: Callable[\n",
    "        [int], Dict[str, Scalar]\n",
    "    ] = lambda cid: federated_train_config,\n",
    "    on_evaluate_config_fn: Callable[[int], Dict[str, Scalar]] = lambda cid: test_config,\n",
    "    # The \"Parameters\" type is merely a more packed version\n",
    "    # of numpy array lists, used internally by Flower\n",
    "    initial_parameters: Parameters = ndarrays_to_parameters(seed_model_params),\n",
    "    # If this is set to True, aggregation will work even if some clients fail\n",
    "    accept_failures: bool = False,\n",
    "    # How to combine the metrics dictionary returned by all clients for fit/eval\n",
    "    fit_metrics_aggregation_fn: Callable | None = aggregate_weighted_average,\n",
    "    evaluate_metrics_aggregation_fn: Callable | None = aggregate_weighted_average,\n",
    "    federated_client_generator: Callable[\n",
    "        [int], fl.client.NumPyClient\n",
    "    ] = federated_client_generator,\n",
    "    # Aggregation learning rate for FedAvg\n",
    "    server_learning_rate: float = 1.0,\n",
    "    server_momentum: float = 0.0,\n",
    ") -> Tuple[List[Tuple[int, NDArrays]], History]:\n",
    "    print(num_rounds)\n",
    "\n",
    "    # Percentage of clients used for train/eval\n",
    "    fraction_fit: float = float(num_clients_per_round) / num_total_clients\n",
    "    fraction_evaluate: float = float(num_evaluate_clients) / num_total_clients\n",
    "\n",
    "    strategy = FedAvg(\n",
    "        fraction_fit=fraction_fit,\n",
    "        fraction_evaluate=fraction_evaluate,\n",
    "        min_fit_clients=num_clients_per_round,\n",
    "        min_evaluate_clients=num_evaluate_clients,\n",
    "        min_available_clients=num_total_clients,\n",
    "        on_fit_config_fn=on_fit_config_fn,\n",
    "        on_evaluate_config_fn=on_evaluate_config_fn,\n",
    "        evaluate_fn=evaluate_fn,\n",
    "        initial_parameters=initial_parameters,\n",
    "        accept_failures=accept_failures,\n",
    "        fit_metrics_aggregation_fn=fit_metrics_aggregation_fn,\n",
    "        evaluate_metrics_aggregation_fn=evaluate_metrics_aggregation_fn,\n",
    "        server_learning_rate=server_learning_rate,\n",
    "        server_momentum=server_momentum,\n",
    "    )\n",
    "    # resetting the seed for the random selection of clients\n",
    "    # this way the list of clients trained is guaranteed to be always the same\n",
    "\n",
    "    cfg = ServerConfig(num_rounds)\n",
    "\n",
    "    simulator_client_generator = lambda cid: federated_client_generator(cid).to_client()\n",
    "\n",
    "    parameters_for_each_round, hist = start_seeded_simulation(\n",
    "        client_fn=simulator_client_generator,\n",
    "        num_clients=num_total_clients,\n",
    "        config=cfg,\n",
    "        strategy=strategy,\n",
    "        name=\"fedavg\",\n",
    "        return_all_parameters=True,\n",
    "        seed=Seeds.DEFAULT,\n",
    "    )\n",
    "    return parameters_for_each_round, hist"
   ]
  },
  {
   "cell_type": "code",
   "execution_count": 36,
   "metadata": {
    "execution": {
     "iopub.execute_input": "2024-02-02T18:50:08.829815Z",
     "iopub.status.busy": "2024-02-02T18:50:08.829482Z",
     "iopub.status.idle": "2024-02-02T18:50:27.534615Z",
     "shell.execute_reply": "2024-02-02T18:50:27.534145Z",
     "shell.execute_reply.started": "2024-02-02T18:50:08.829795Z"
    },
    "id": "i4HpswKXbDup"
   },
   "outputs": [
    {
     "name": "stderr",
     "output_type": "stream",
     "text": [
      "INFO flwr 2024-02-02 18:50:08,831 | app.py:149 | Starting Flower simulation, config: ServerConfig(num_rounds=10, round_timeout=None)\n",
      "INFO flwr 2024-02-02 18:50:08,833 | server_returns_parameters.py:81 | Initializing global parameters\n",
      "INFO flwr 2024-02-02 18:50:08,835 | server_returns_parameters.py:273 | Using initial parameters provided by strategy\n",
      "INFO flwr 2024-02-02 18:50:08,836 | server_returns_parameters.py:84 | Evaluating initial parameters\n"
     ]
    },
    {
     "name": "stdout",
     "output_type": "stream",
     "text": [
      "10\n"
     ]
    },
    {
     "name": "stderr",
     "output_type": "stream",
     "text": [
      " 11%|████▍                                   | 100/891 [00:00<00:05, 137.12it/s]\n",
      "INFO flwr 2024-02-02 18:50:09,591 | server_returns_parameters.py:87 | initial parameters (loss, other metrics): 413.6843066215515, {'accuracy': 0.0065625}\n",
      "INFO flwr 2024-02-02 18:50:09,592 | server_returns_parameters.py:97 | FL starting\n",
      "DEBUG flwr 2024-02-02 18:50:09,593 | server_returns_parameters.py:223 | fit_round 1: strategy sampled 5 clients (out of 20)\n"
     ]
    },
    {
     "name": "stdout",
     "output_type": "stream",
     "text": [
      "cid:  1494\n",
      "cid:  3119\n",
      "cid:  2600\n",
      "cid:  2399\n",
      "cid:  1571\n"
     ]
    },
    {
     "name": "stderr",
     "output_type": "stream",
     "text": [
      "DEBUG flwr 2024-02-02 18:50:10,721 | server_returns_parameters.py:237 | fit_round 1 received 5 results and 0 failures\n",
      " 11%|████▍                                   | 100/891 [00:00<00:05, 139.62it/s]\n",
      "INFO flwr 2024-02-02 18:50:11,461 | server_returns_parameters.py:120 | fit progress: (1, 359.3247103691101, {'accuracy': 0.074375}, 1.8687556229997426)\n",
      "INFO flwr 2024-02-02 18:50:11,462 | server_returns_parameters.py:171 | evaluate_round 1: no clients selected, cancel\n",
      "DEBUG flwr 2024-02-02 18:50:11,463 | server_returns_parameters.py:223 | fit_round 2: strategy sampled 5 clients (out of 20)\n"
     ]
    },
    {
     "name": "stdout",
     "output_type": "stream",
     "text": [
      "cid:  1473\n",
      "cid:  2600\n",
      "cid:  1363\n",
      "cid:  1494\n",
      "cid:  2997\n"
     ]
    },
    {
     "name": "stderr",
     "output_type": "stream",
     "text": [
      "DEBUG flwr 2024-02-02 18:50:12,549 | server_returns_parameters.py:237 | fit_round 2 received 5 results and 0 failures\n",
      " 11%|████▍                                   | 100/891 [00:00<00:04, 159.93it/s]\n",
      "INFO flwr 2024-02-02 18:50:13,197 | server_returns_parameters.py:120 | fit progress: (2, 341.1436629295349, {'accuracy': 0.074375}, 3.603951249000602)\n",
      "INFO flwr 2024-02-02 18:50:13,197 | server_returns_parameters.py:171 | evaluate_round 2: no clients selected, cancel\n",
      "DEBUG flwr 2024-02-02 18:50:13,198 | server_returns_parameters.py:223 | fit_round 3: strategy sampled 5 clients (out of 20)\n"
     ]
    },
    {
     "name": "stdout",
     "output_type": "stream",
     "text": [
      "cid:  2600\n",
      "cid:  1498\n",
      "cid:  1260\n",
      "cid:  1473\n",
      "cid:  2907\n"
     ]
    },
    {
     "name": "stderr",
     "output_type": "stream",
     "text": [
      "DEBUG flwr 2024-02-02 18:50:14,350 | server_returns_parameters.py:237 | fit_round 3 received 5 results and 0 failures\n",
      " 11%|████▍                                   | 100/891 [00:00<00:05, 148.34it/s]\n",
      "INFO flwr 2024-02-02 18:50:15,041 | server_returns_parameters.py:120 | fit progress: (3, 351.77633237838745, {'accuracy': 0.070625}, 5.448699208000107)\n",
      "INFO flwr 2024-02-02 18:50:15,042 | server_returns_parameters.py:171 | evaluate_round 3: no clients selected, cancel\n",
      "DEBUG flwr 2024-02-02 18:50:15,043 | server_returns_parameters.py:223 | fit_round 4: strategy sampled 5 clients (out of 20)\n"
     ]
    },
    {
     "name": "stdout",
     "output_type": "stream",
     "text": [
      "cid: cid:  2600\n",
      " 839\n",
      "cid:  1473\n",
      "cid:  3119\n",
      "cid:  1363\n"
     ]
    },
    {
     "name": "stderr",
     "output_type": "stream",
     "text": [
      "DEBUG flwr 2024-02-02 18:50:16,043 | server_returns_parameters.py:237 | fit_round 4 received 5 results and 0 failures\n",
      " 11%|████▍                                   | 100/891 [00:00<00:05, 137.20it/s]\n",
      "INFO flwr 2024-02-02 18:50:16,796 | server_returns_parameters.py:120 | fit progress: (4, 341.71026515960693, {'accuracy': 0.074375}, 7.203356550000535)\n",
      "INFO flwr 2024-02-02 18:50:16,797 | server_returns_parameters.py:171 | evaluate_round 4: no clients selected, cancel\n",
      "DEBUG flwr 2024-02-02 18:50:16,798 | server_returns_parameters.py:223 | fit_round 5: strategy sampled 5 clients (out of 20)\n"
     ]
    },
    {
     "name": "stdout",
     "output_type": "stream",
     "text": [
      "cid:  2530\n",
      "cid:  2600\n",
      "cid:  1498\n",
      "cid:  1603\n",
      "cid:  678\n"
     ]
    },
    {
     "name": "stderr",
     "output_type": "stream",
     "text": [
      "DEBUG flwr 2024-02-02 18:50:17,823 | server_returns_parameters.py:237 | fit_round 5 received 5 results and 0 failures\n",
      " 11%|████▍                                   | 100/891 [00:00<00:05, 140.63it/s]\n",
      "INFO flwr 2024-02-02 18:50:18,560 | server_returns_parameters.py:120 | fit progress: (5, 330.27933740615845, {'accuracy': 0.084375}, 8.966829539000173)\n",
      "INFO flwr 2024-02-02 18:50:18,560 | server_returns_parameters.py:171 | evaluate_round 5: no clients selected, cancel\n",
      "DEBUG flwr 2024-02-02 18:50:18,561 | server_returns_parameters.py:223 | fit_round 6: strategy sampled 5 clients (out of 20)\n"
     ]
    },
    {
     "name": "stdout",
     "output_type": "stream",
     "text": [
      "cid:  2399\n",
      "cid:  1571\n",
      "cid:  1603\n",
      "cid:  3175\n",
      "cid:  2997\n"
     ]
    },
    {
     "name": "stderr",
     "output_type": "stream",
     "text": [
      "DEBUG flwr 2024-02-02 18:50:19,508 | server_returns_parameters.py:237 | fit_round 6 received 5 results and 0 failures\n",
      " 11%|████▍                                   | 100/891 [00:00<00:05, 154.40it/s]\n",
      "INFO flwr 2024-02-02 18:50:20,175 | server_returns_parameters.py:120 | fit progress: (6, 301.83728408813477, {'accuracy': 0.1825}, 10.58190946799914)\n",
      "INFO flwr 2024-02-02 18:50:20,175 | server_returns_parameters.py:171 | evaluate_round 6: no clients selected, cancel\n",
      "DEBUG flwr 2024-02-02 18:50:20,176 | server_returns_parameters.py:223 | fit_round 7: strategy sampled 5 clients (out of 20)\n"
     ]
    },
    {
     "name": "stdout",
     "output_type": "stream",
     "text": [
      "cid:  3119\n",
      "cid:  2907\n",
      "cid:  839\n",
      "cid:  2184\n",
      "cid:  2688\n"
     ]
    },
    {
     "name": "stderr",
     "output_type": "stream",
     "text": [
      "DEBUG flwr 2024-02-02 18:50:21,115 | server_returns_parameters.py:237 | fit_round 7 received 5 results and 0 failures\n",
      " 11%|████▍                                   | 100/891 [00:00<00:04, 159.94it/s]\n",
      "INFO flwr 2024-02-02 18:50:21,764 | server_returns_parameters.py:120 | fit progress: (7, 270.0823789834976, {'accuracy': 0.32625}, 12.170952389999002)\n",
      "INFO flwr 2024-02-02 18:50:21,764 | server_returns_parameters.py:171 | evaluate_round 7: no clients selected, cancel\n",
      "DEBUG flwr 2024-02-02 18:50:21,765 | server_returns_parameters.py:223 | fit_round 8: strategy sampled 5 clients (out of 20)\n"
     ]
    },
    {
     "name": "stdout",
     "output_type": "stream",
     "text": [
      "cid:  1260\n",
      "cid:  2184\n",
      "cid:  2530\n",
      "cid:  2997\n",
      "cid:  839\n"
     ]
    },
    {
     "name": "stderr",
     "output_type": "stream",
     "text": [
      "DEBUG flwr 2024-02-02 18:50:23,028 | server_returns_parameters.py:237 | fit_round 8 received 5 results and 0 failures\n",
      " 11%|████▍                                   | 100/891 [00:00<00:05, 142.07it/s]\n",
      "INFO flwr 2024-02-02 18:50:23,752 | server_returns_parameters.py:120 | fit progress: (8, 252.97915017604828, {'accuracy': 0.3740625}, 14.159533023999757)\n",
      "INFO flwr 2024-02-02 18:50:23,753 | server_returns_parameters.py:171 | evaluate_round 8: no clients selected, cancel\n",
      "DEBUG flwr 2024-02-02 18:50:23,753 | server_returns_parameters.py:223 | fit_round 9: strategy sampled 5 clients (out of 20)\n"
     ]
    },
    {
     "name": "stdout",
     "output_type": "stream",
     "text": [
      "cid: cid:  1363\n",
      " 1498\n",
      "cid:  2997\n",
      "cid:  1603\n",
      "cid:  1571\n"
     ]
    },
    {
     "name": "stderr",
     "output_type": "stream",
     "text": [
      "DEBUG flwr 2024-02-02 18:50:24,744 | server_returns_parameters.py:237 | fit_round 9 received 5 results and 0 failures\n",
      " 11%|████▍                                   | 100/891 [00:00<00:05, 156.35it/s]\n",
      "INFO flwr 2024-02-02 18:50:25,409 | server_returns_parameters.py:120 | fit progress: (9, 233.22660732269287, {'accuracy': 0.45125}, 15.816229628999281)\n",
      "INFO flwr 2024-02-02 18:50:25,409 | server_returns_parameters.py:171 | evaluate_round 9: no clients selected, cancel\n",
      "DEBUG flwr 2024-02-02 18:50:25,410 | server_returns_parameters.py:223 | fit_round 10: strategy sampled 5 clients (out of 20)\n"
     ]
    },
    {
     "name": "stdout",
     "output_type": "stream",
     "text": [
      "cid: cid:  1571\n",
      " 2530\n",
      "cid:  1260\n",
      "cid:  678\n",
      "cid:  2184\n"
     ]
    },
    {
     "name": "stderr",
     "output_type": "stream",
     "text": [
      "DEBUG flwr 2024-02-02 18:50:26,779 | server_returns_parameters.py:237 | fit_round 10 received 5 results and 0 failures\n",
      " 11%|████▍                                   | 100/891 [00:00<00:05, 138.63it/s]\n",
      "INFO flwr 2024-02-02 18:50:27,524 | server_returns_parameters.py:120 | fit progress: (10, 237.80830574035645, {'accuracy': 0.4084375}, 17.93162614299945)\n",
      "INFO flwr 2024-02-02 18:50:27,525 | server_returns_parameters.py:171 | evaluate_round 10: no clients selected, cancel\n",
      "INFO flwr 2024-02-02 18:50:27,526 | server_returns_parameters.py:150 | FL finished in 17.933173737999823\n",
      "INFO flwr 2024-02-02 18:50:27,526 | app.py:250 | app_fit: losses_distributed []\n",
      "INFO flwr 2024-02-02 18:50:27,527 | app.py:251 | app_fit: metrics_distributed_fit {'train_loss': [(1, {'avg': 0.10397987990152269, 'all': [(4, 0.10611537098884583), (4, 0.10257652029395103), (5, 0.1034235566854477), (4, 0.10163166746497154), (4, 0.10629136487841606)]}), (2, {'avg': 0.10353077344951175, 'all': [(4, 0.10329127870500088), (5, 0.1048492282629013), (5, 0.10285738855600357), (3, 0.10487204790115356), (4, 0.10195797495543957)]}), (3, {'avg': 0.10524873590717714, 'all': [(5, 0.10380023419857025), (3, 0.09676029533147812), (4, 0.0971183218061924), (8, 0.11468645092099905), (4, 0.10268067754805088)]}), (4, {'avg': 0.10286671333014966, 'all': [(5, 0.09719853997230529), (3, 0.10563383003075917), (4, 0.10443072952330112), (4, 0.10609645210206509), (4, 0.10308283753693104)]}), (5, {'avg': 0.09491384256145229, 'all': [(5, 0.09510356485843659), (4, 0.08933722600340843), (5, 0.0865183264017105), (6, 0.10239312052726746), (3, 0.10106709847847621)]}), (6, {'avg': 0.07645822912454606, 'all': [(4, 0.07170593552291393), (4, 0.07710860297083855), (4, 0.08533678762614727), (3, 0.07536967595418294), (5, 0.07329005002975464)]}), (7, {'avg': 0.06472149882465601, 'all': [(4, 0.07228104025125504), (4, 0.07234926242381334), (4, 0.054326437413692474), (4, 0.06061890721321106), (4, 0.06403184682130814)]}), (8, {'avg': 0.05435718760754053, 'all': [(5, 0.053828462958335876), (4, 0.06507750321179628), (8, 0.05935794860124588), (4, 0.06149797886610031), (5, 0.03259580917656422)]}), (9, {'avg': 0.03522601528093219, 'all': [(5, 0.028342308849096297), (4, 0.03264454333111644), (3, 0.03829679265618324), (4, 0.042071033269166946), (4, 0.03726401925086975)]}), (10, {'avg': 0.03988159144366229, 'all': [(4, 0.04619184136390686), (8, 0.037040868774056435), (6, 0.05374284336964289), (5, 0.03094789683818817), (4, 0.029628027230501175)]})]}\n",
      "INFO flwr 2024-02-02 18:50:27,528 | app.py:252 | app_fit: metrics_distributed {}\n",
      "INFO flwr 2024-02-02 18:50:27,529 | app.py:253 | app_fit: losses_centralized [(0, 413.6843066215515), (1, 359.3247103691101), (2, 341.1436629295349), (3, 351.77633237838745), (4, 341.71026515960693), (5, 330.27933740615845), (6, 301.83728408813477), (7, 270.0823789834976), (8, 252.97915017604828), (9, 233.22660732269287), (10, 237.80830574035645)]\n",
      "INFO flwr 2024-02-02 18:50:27,529 | app.py:254 | app_fit: metrics_centralized {'accuracy': [(0, 0.0065625), (1, 0.074375), (2, 0.074375), (3, 0.070625), (4, 0.074375), (5, 0.084375), (6, 0.1825), (7, 0.32625), (8, 0.3740625), (9, 0.45125), (10, 0.4084375)]}\n"
     ]
    }
   ],
   "source": [
    "parameters_for_each_round, hist = run_simulation()"
   ]
  },
  {
   "cell_type": "code",
   "execution_count": 37,
   "metadata": {
    "execution": {
     "iopub.execute_input": "2024-02-02T18:50:27.535506Z",
     "iopub.status.busy": "2024-02-02T18:50:27.535329Z",
     "iopub.status.idle": "2024-02-02T18:50:27.538081Z",
     "shell.execute_reply": "2024-02-02T18:50:27.537660Z",
     "shell.execute_reply.started": "2024-02-02T18:50:27.535492Z"
    },
    "id": "1CMXI3Uz3D1M"
   },
   "outputs": [
    {
     "name": "stdout",
     "output_type": "stream",
     "text": [
      "11\n"
     ]
    }
   ],
   "source": [
    "print(len(parameters_for_each_round))"
   ]
  },
  {
   "cell_type": "markdown",
   "metadata": {
    "id": "mriFJbgc-IaC"
   },
   "source": []
  },
  {
   "cell_type": "markdown",
   "metadata": {
    "id": "pY9ELp7NuXEE"
   },
   "source": [
    "**Question 9 (Part II ✅ | Part III/MPhil ✅):**\n",
    "\n",
    "(You must provide the answer with **code** and **plots** for this question. A short written argumentation is recommended.)\n",
    "\n",
    "Now that an entire FL experiment can be trained, it is worth considering the relationship between the FL model across rounds. If we consider the final model $\\theta^N$ obtained after $N$ rounds to be the optimal model $\\theta^*$, we can ask how optimization step contributed to reaching $\\theta^*$.\n",
    "\n",
    "1. Run an FL simulation for at-least 50 rounds.\n",
    "    - This is implemented for us by the `run_simulation` function, we need only change the `num_rounds` parameter.\n",
    "2. Build a function which reconstitutes the update that must have been applied to model $\\theta^t$ in order to obtain $\\theta^{t+1}$, assume the `server_learning_rate` was 1.0. We shall call this update $g_t$ and treat it as a pseudo-gradient.\n",
    "    - This is done in the `pseudo_gradient` function, which takes the difference of all the layers at time `t` and `t+1`. Note that this function preserves the layer structure too, which is not an issue, as `cosine_similarity` will coerce its arguments to be a flattened array.\n",
    "3. For each round plot the cosine similarity between $g_t$ and the direction of improvement towards $\\theta^{*}$ calculated as $\\theta^{*} - \\theta_t$.\n",
    "    - This is done in the `correct_gradient` function, which takes the difference of all the layers at time `t` and `T`, the last time step. Note that this function preserves the layer structure too, which is not an issue, as `cosine_similarity` will coerce its arguments to be a flattened array.\n",
    "4. What do you observe from the plots? Does every update point in the direction of the final model? If not, why do you think that is?\n",
    "    - Yes, the cosine similarities are always positive, though they are smaller in the beginning. The early unstability makes sense, as in the beginning the models are highly suboptimal, so it's harder to point in the direction of the point where we are going to converge based on the starting loss landscape. Once we start converging to the final valley, the gradients will become more and more aligned. This is achieved because we are using the `AdamW` optimizer, which very broadly speaking tries decreasing the learning rate when the second derivative is small (so when we reach a smoother point of the loss landscape). This tends to happen at parts of the loss landscape where the models converge, because otherwise if the loss landscape was unstable, the learning algorithm could easily step over the local minimum and start converging somewhere else. Thus, by decreasing the learning rate close the point of convergence, we get a fairly accurate representation of the correct gradient. One thing to note here is that the global loss landscape I'm talking about doesn't exist on any of the machines. It's some function that we get from the composition of each of the individual loss landscapes on the client machines.\n"
   ]
  },
  {
   "cell_type": "code",
   "execution_count": null,
   "metadata": {},
   "outputs": [],
   "source": [
    "%%capture\n",
    "params_per_round, hist = run_simulation(\n",
    "    num_rounds=50,\n",
    ")"
   ]
  },
  {
   "cell_type": "code",
   "execution_count": 39,
   "metadata": {
    "execution": {
     "iopub.execute_input": "2024-02-02T18:52:00.676965Z",
     "iopub.status.busy": "2024-02-02T18:52:00.676820Z",
     "iopub.status.idle": "2024-02-02T18:52:00.680020Z",
     "shell.execute_reply": "2024-02-02T18:52:00.679543Z",
     "shell.execute_reply.started": "2024-02-02T18:52:00.676952Z"
    }
   },
   "outputs": [],
   "source": [
    "def pseudo_gradient(t, param_hist):\n",
    "    return [\n",
    "        layer_t - layer_succ_t\n",
    "        for layer_t, layer_succ_t in zip(param_hist[t][1], param_hist[t + 1][1])\n",
    "    ]"
   ]
  },
  {
   "cell_type": "code",
   "execution_count": 40,
   "metadata": {
    "execution": {
     "iopub.execute_input": "2024-02-02T18:52:00.682768Z",
     "iopub.status.busy": "2024-02-02T18:52:00.682557Z",
     "iopub.status.idle": "2024-02-02T18:52:00.686977Z",
     "shell.execute_reply": "2024-02-02T18:52:00.686272Z",
     "shell.execute_reply.started": "2024-02-02T18:52:00.682755Z"
    }
   },
   "outputs": [],
   "source": [
    "def correct_gradient(t, param_hist):\n",
    "    return [\n",
    "        layer_t - layer_succ_t\n",
    "        for layer_t, layer_succ_t in zip(param_hist[t][1], param_hist[-1][1])\n",
    "    ]"
   ]
  },
  {
   "cell_type": "code",
   "execution_count": 41,
   "metadata": {
    "execution": {
     "iopub.execute_input": "2024-02-02T18:52:00.687700Z",
     "iopub.status.busy": "2024-02-02T18:52:00.687562Z",
     "iopub.status.idle": "2024-02-02T18:52:01.012824Z",
     "shell.execute_reply": "2024-02-02T18:52:01.011854Z",
     "shell.execute_reply.started": "2024-02-02T18:52:00.687684Z"
    }
   },
   "outputs": [
    {
     "data": {
      "text/plain": [
       "Text(0.5, 1.0, 'Pseudo gradient vs correct gradient | psuedo similarity')"
      ]
     },
     "execution_count": 41,
     "metadata": {},
     "output_type": "execute_result"
    },
    {
     "data": {
      "image/png": "[encoded data removed]",
      "text/plain": [
       "<Figure size 1000x1000 with 1 Axes>"
      ]
     },
     "metadata": {},
     "output_type": "display_data"
    }
   ],
   "source": [
    "fig, ax = plt.subplots(figsize=(10, 10))\n",
    "ax.tick_params(axis=\"x\", rotation=90)\n",
    "sns.barplot(\n",
    "    [\n",
    "        cosine_similarity(\n",
    "            pseudo_gradient(t, params_per_round), correct_gradient(t, params_per_round)\n",
    "        )\n",
    "        for t in range(len(params_per_round) - 1)\n",
    "    ]\n",
    ").set_title(\"Pseudo gradient vs correct gradient | psuedo similarity\")"
   ]
  },
  {
   "cell_type": "markdown",
   "metadata": {
    "id": "l6ofvhZqDSnA"
   },
   "source": [
    "**Question 10 (Part III/MPhil ✅):**\n",
    "\n",
    "(You must provide the answer with **code** and **plots** for this question. A short written argumentation is recommended.)\n",
    "\n",
    " and then for\n",
    "\n",
    "1.   Read about server momentum in FL [here](https://arxiv.org/abs/2003.00295) and repeat the previous experiments using `server_learning_rate=1.0` and `server_momentum=0.9`. Discuss how the momentum impacts the direction of optimization.\n",
    "\n",
    "\n"
   ]
  },
  {
   "cell_type": "markdown",
   "metadata": {
    "id": "-WfWeMqLQ0oT"
   },
   "source": [
    "(c) 2024 Alexandru-Andrei Iacob, Lorenzo Sani"
   ]
  }
 ],
 "metadata": {
  "colab": {
   "provenance": []
  },
  "kernelspec": {
   "display_name": "Python 3 (ipykernel)",
   "language": "python",
   "name": "python3"
  },
  "language_info": {
   "codemirror_mode": {
    "name": "ipython",
    "version": 3
   },
   "file_extension": ".py",
   "mimetype": "text/x-python",
   "name": "python",
   "nbconvert_exporter": "python",
   "pygments_lexer": "ipython3",
   "version": "3.10.13"
  },
  "vscode": {
   "interpreter": {
    "hash": "224d0ab12de28608c5a4d7a39646ed9b98595177ad290f2912bfa68781d77d65"
   }
  }
 },
 "nbformat": 4,
 "nbformat_minor": 4
}
